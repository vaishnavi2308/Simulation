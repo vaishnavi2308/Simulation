{
 "cells": [
  {
   "cell_type": "markdown",
   "metadata": {
    "colab_type": "text",
    "id": "CFAUYewXyvR9"
   },
   "source": [
    "# **IEOR 4404  Simulation (Fall 2019)**\n",
    "\n",
    "**Homework 3[Total points: 60]**\n",
    "\n",
    "** Due: 11:59 PM, Oct 14\n",
    "\n",
    "This third homework focuses on the inverse transform method for discrete distributions.\n",
    "\n",
    "The steps to finish in the homework:\n",
    "\n",
    "*   Step 1: Make a copy of the file to your LionDrive.\n",
    "*   Step 2: Work with the copy (an ipynb file).\n",
    "*    <font color='red'>**Step 3: Rename the copy to your_uni_hw3.ipynb (For example: yd4501_hw3.ipynb).**</font>  \n",
    "*   Step 4: Submit the copy on CourseWorks.\n",
    "\n",
    "Before you submit your assignment, make sure to re-run your code from the beginning. (You can do so by first clicking Runtime/Reset All Runtimes and then clicking Runtime/Run all)\n",
    "\n",
    "\n"
   ]
  },
  {
   "cell_type": "code",
   "execution_count": 1,
   "metadata": {
    "colab": {},
    "colab_type": "code",
    "id": "Vguot6YYWSob"
   },
   "outputs": [],
   "source": [
    "#This imports all the packages you need for the homework\n",
    "#Please run this first\n",
    "#we will need this for array operation\n",
    "import numpy as np\n",
    "\n",
    "#We will need this for factorial computation\n",
    "import scipy.special as spsp\n",
    "\n",
    "#We will need this for visualization\n",
    "import matplotlib.pyplot as plt\n",
    "\n",
    "#We can use this for math functions\n",
    "import math\n",
    " \n",
    "import seaborn as sns\n"
   ]
  },
  {
   "cell_type": "code",
   "execution_count": 2,
   "metadata": {
    "colab": {},
    "colab_type": "code",
    "id": "4odA17P_zBeZ"
   },
   "outputs": [],
   "source": [
    "#Your Name: Vaishnavi Avachat\n",
    "#Your UNI: vma2120"
   ]
  },
  {
   "cell_type": "markdown",
   "metadata": {
    "colab_type": "text",
    "id": "n9boZ_9Tyfn-"
   },
   "source": [
    "#Exercise 1  [Total: 54 Points]\n"
   ]
  },
  {
   "cell_type": "markdown",
   "metadata": {
    "colab_type": "text",
    "id": "HQ_RmLcHXGS4"
   },
   "source": [
    "## Setting \n",
    "\n",
    "A mathematician carries two matchboxes in the pockets of his jacket. One matchbox is in the left pocket. The other matchbox is in the right pocket. The left pocket contains $n_l$ matches, while the right pocket contains $n_r$ matches. Every time he wants to light a cigar, the mathematician randomly picks a match from one of his pockets. The probability he picks the match from his left pocket is $p$. The probability he picks the match from his right pocket is $1−p$. After a certain number of cigars, he puts a hand in one of his pockets, finding that he has no more matches in that pocket.\n",
    "\n",
    "\n",
    "[Pay attention: The mathematician does not know he will run out of the matches when he got the last match in one pocket. He only knows that he runs out of matches in one pocket when he reaches out to his pocket and finds the matchbox in the pocket is empty]"
   ]
  },
  {
   "cell_type": "markdown",
   "metadata": {
    "colab_type": "text",
    "id": "08FgurHj_LGW"
   },
   "source": [
    "\n",
    "## Q1. [7 points]\n",
    "\n",
    "Fill in function matchbox_problem that simulates the scenario.\n",
    "\n",
    "This function should have two return values\n",
    "\n",
    "1. Left. A Boolean value (True/False), indicating whether the left pocket was the pocket when the mathematican found that a match box was empty. \n",
    "2. N_matches. A integer value indicating how many matches were in the other packet when the mathematician found one of the pocket is empty. \n",
    "\n",
    "Run this function 100000 times with $n_r = 35,n_l=40,  p = 0.55$, \n",
    "\n",
    "* Compute how many times the mathematician found that he ran out of matches in his left pocket first\n",
    "* Visualize the distribution of the number of matches left in the other pocket when the mathematician found one of the pocket had an empty matchbox. \n",
    "* Report the mean of the sample distribution"
   ]
  },
  {
   "cell_type": "code",
   "execution_count": 3,
   "metadata": {
    "colab": {},
    "colab_type": "code",
    "id": "WHvxSCRQFx6E"
   },
   "outputs": [],
   "source": [
    "def matchbox_problem(nl,nr,p):\n",
    "  #Fill in the function\n",
    "  \n",
    "  while True:\n",
    "    u = np.random.rand()\n",
    "    #print (\"Random no: \", u)\n",
    "    \n",
    "    if u<=p:\n",
    "      if (nl==0):\n",
    "        break\n",
    "      nl = nl - 1\n",
    "    else:\n",
    "      if (nr==0):\n",
    "        break\n",
    "      nr = nr - 1\n",
    "  \n",
    "#   print (nl)\n",
    "#   print(nr)\n",
    "  \n",
    "  if nl==0:\n",
    "    Left = True\n",
    "    N_matches = nr\n",
    "  else:\n",
    "    Left = False\n",
    "    N_matches = nl\n",
    "  \n",
    "  return Left, N_matches\n",
    " "
   ]
  },
  {
   "cell_type": "code",
   "execution_count": 4,
   "metadata": {
    "colab": {
     "base_uri": "https://localhost:8080/",
     "height": 333
    },
    "colab_type": "code",
    "id": "Ry9zA3-n-V0O",
    "outputId": "97cd2738-8d07-4948-848a-73a25b702872"
   },
   "outputs": [
    {
     "name": "stdout",
     "output_type": "stream",
     "text": [
      "The number of times mathematician ran out of matches in left pocket first:  65966.0\n",
      "[1. 1. 1. ... 1. 0. 0.]\n",
      "[12.  0.  5. ... 12.  2.  7.]\n"
     ]
    },
    {
     "data": {
      "image/png": "[encoded data removed]",
      "text/plain": [
       "<Figure size 432x288 with 1 Axes>"
      ]
     },
     "metadata": {
      "needs_background": "light"
     },
     "output_type": "display_data"
    }
   ],
   "source": [
    "Left_arr = np.empty(100000)\n",
    "# print(Left_arr)\n",
    "Match_arr = np.empty(100000)\n",
    "\n",
    "for i in range(100000):\n",
    "  #a,b = matchbox_problem(40,35,0.55)\n",
    "  #print (a)\n",
    "  Left_arr[i], Match_arr[i] = matchbox_problem(40,35,0.55)\n",
    "  \n",
    "print (\"The number of times mathematician ran out of matches in left pocket first: \", np.sum(Left_arr))\n",
    "  \n",
    "print(Left_arr)\n",
    "print(Match_arr)\n",
    "# sns.distplot(Match_arr, axlabel=\"Distribution of matchboxes\")\n",
    "\n",
    "outcomes, counts = np.unique(Match_arr, return_counts=True)\n",
    "plt.bar(outcomes,counts/np.sum(counts))\n",
    "plt.xlabel(\"Outcomes\")\n",
    "plt.ylabel(\"Counts\")\n",
    "plt.show()"
   ]
  },
  {
   "cell_type": "code",
   "execution_count": 5,
   "metadata": {
    "colab": {
     "base_uri": "https://localhost:8080/",
     "height": 33
    },
    "colab_type": "code",
    "id": "vRuBHzWE4zUc",
    "outputId": "17a6ea10-e05f-42bb-9f01-ff9fb81d8fdf"
   },
   "outputs": [
    {
     "name": "stdout",
     "output_type": "stream",
     "text": [
      "Mean of sample dist:  6.09894\n"
     ]
    }
   ],
   "source": [
    "print(\"Mean of sample dist: \", np.dot(outcomes,(counts/np.sum(counts))))"
   ]
  },
  {
   "cell_type": "markdown",
   "metadata": {
    "colab_type": "text",
    "id": "otDLSdMnXx_o"
   },
   "source": [
    "## Q2 [7 point]\n",
    "\n",
    "It can be shown that if $p = 1/2$ and $n_l=n_r=n$,\n",
    "\n",
    "$$\n",
    "P(\\textrm{There are }k\\textrm{ matches in the other matchbox}) = \\frac{(2n - k)!}{(n-k)!n!}\\left(\\frac{1}{2}\\right)^{2n-k}\n",
    "$$\n",
    "\n",
    "where $k=0,1,2,3,...n$\n",
    "\n",
    "Let's assume that $n=75$. \n",
    "* Print out the mean of k.  \n",
    "* Create an array indicating the CDF corresponding to $k=0, 1, 2, 3,..., n$. Print out the values of the CDF.\n",
    "* Visualize the pmf of this distribution"
   ]
  },
  {
   "cell_type": "code",
   "execution_count": 6,
   "metadata": {
    "colab": {
     "base_uri": "https://localhost:8080/",
     "height": 533
    },
    "colab_type": "code",
    "id": "5v-5NkwsYdFr",
    "outputId": "07ed5d6b-be31-4cf5-acb4-a8db98705d5d"
   },
   "outputs": [
    {
     "name": "stdout",
     "output_type": "stream",
     "text": [
      "Mean of k:  8.820815687337557\n",
      "CDF array is:  [0.06503851 0.13007703 0.19467904 0.25840806 0.32083648 0.38155453\n",
      " 0.44017886 0.49636051 0.54979201 0.60021328 0.64741617 0.69124743\n",
      " 0.73161003 0.76846283 0.80181866 0.8317408  0.85833825 0.88175989\n",
      " 0.90218779 0.91983006 0.93491353 0.94767647 0.95836172 0.96721044\n",
      " 0.97445664 0.98032261 0.98501538 0.98872419 0.99161887 0.99384919\n",
      " 0.99554498 0.99681682 0.99775733 0.9984428  0.99893493 0.99928281\n",
      " 0.99952481 0.9996904  0.99980176 0.99987534 0.99992307 0.99995344\n",
      " 0.99997239 0.99998397 0.9999909  0.99999495 0.99999726 0.99999855\n",
      " 0.99999926 0.99999963 0.99999982 0.99999991 0.99999996 0.99999998\n",
      " 0.99999999 1.         1.         1.         1.         1.\n",
      " 1.         1.         1.         1.         1.         1.\n",
      " 1.         1.         1.         1.         1.         1.\n",
      " 1.         1.         1.         1.        ]\n"
     ]
    },
    {
     "data": {
      "text/plain": [
       "Text(0.5,1,'PMF visualization')"
      ]
     },
     "execution_count": 6,
     "metadata": {},
     "output_type": "execute_result"
    },
    {
     "data": {
      "image/png": "[encoded data removed]",
      "text/plain": [
       "<Figure size 432x288 with 1 Axes>"
      ]
     },
     "metadata": {
      "needs_background": "light"
     },
     "output_type": "display_data"
    }
   ],
   "source": [
    "# Mean = (spsp.comb(2n-k,n))*(1/2)**(2n-k)\n",
    "n = 75\n",
    "\n",
    "Outcomes = np.arange(n+1)\n",
    "#print(Outcomes)\n",
    "PMF_arr = spsp.comb(2*n-Outcomes,n)*(1/2)**(2*n-Outcomes)\n",
    "#print(PMF_arr)\n",
    "\n",
    "mean = np.sum(Outcomes*PMF_arr)\n",
    "\n",
    "print(\"Mean of k: \", mean)\n",
    "\n",
    "CDF_arr = np.cumsum(PMF_arr)\n",
    "print(\"CDF array is: \", CDF_arr)\n",
    "\n",
    "plt.bar(Outcomes, PMF_arr)\n",
    "plt.xlabel(\"Outcomes\")\n",
    "plt.ylabel(\"PMF\")\n",
    "plt.title(\"PMF visualization\")"
   ]
  },
  {
   "cell_type": "markdown",
   "metadata": {
    "colab_type": "text",
    "id": "e61X5MVnYdWn"
   },
   "source": [
    "## Q3 [7 points]\n",
    "Fill in function\n",
    "\n",
    "Def matchbox_sample():\n",
    "\n",
    "Inside the function, we will draw a sample from the distribution described in Q2. The search starts from x=0. The CDF will be updated based on PMF. The PMF will be updated using the iterative method.  \n",
    "\n",
    "This function will have one return value, which is the sample value of $k$.\n",
    "\n",
    "* Use this function to draw 100000 samples from the distribution\n",
    "* Print out the sample mean\n",
    "* Visualize the distribution of the 100000 samples using bar chart.\n"
   ]
  },
  {
   "cell_type": "code",
   "execution_count": 7,
   "metadata": {
    "colab": {},
    "colab_type": "code",
    "id": "T9ReCVksHuMZ"
   },
   "outputs": [],
   "source": [
    "n = 75 \n",
    "def matchbox_sample():\n",
    "  u=np.random.rand()\n",
    "  #print(u)\n",
    "  k=0\n",
    "  #CDF for k=0\n",
    "  PMF=spsp.comb(2*n-k,n)*(1/2)**(2*n-k)\n",
    "  CDF=PMF\n",
    "\n",
    "  while (u>=CDF):\n",
    "    k=k+1\n",
    "    PMF=(PMF*(2*(n-(k-1))))/(2*n-(k-1))\n",
    "    CDF=CDF+PMF\n",
    "    #print(u,CDF)\n",
    "    \n",
    "  return k \n",
    "  "
   ]
  },
  {
   "cell_type": "code",
   "execution_count": 9,
   "metadata": {
    "colab": {
     "base_uri": "https://localhost:8080/",
     "height": 33
    },
    "colab_type": "code",
    "id": "7lZtiY4WlcKB",
    "outputId": "6c48a1ba-1bbd-44ad-9809-27adcc2dbe27"
   },
   "outputs": [
    {
     "data": {
      "text/plain": [
       "array([13, 19,  9, ..., 26,  4, 11])"
      ]
     },
     "execution_count": 9,
     "metadata": {},
     "output_type": "execute_result"
    }
   ],
   "source": [
    "samples=np.array([matchbox_sample() for i in range(100000)])\n",
    "samples"
   ]
  },
  {
   "cell_type": "code",
   "execution_count": 10,
   "metadata": {
    "colab": {
     "base_uri": "https://localhost:8080/",
     "height": 33
    },
    "colab_type": "code",
    "id": "mw2R3ysrlqyJ",
    "outputId": "8769ed6d-b8e1-4e3e-a97c-f1c2c6c401d7"
   },
   "outputs": [
    {
     "name": "stdout",
     "output_type": "stream",
     "text": [
      "Sample mean is:  8.80244\n"
     ]
    }
   ],
   "source": [
    "sample_mean = np.mean(samples)\n",
    "print(\"Sample mean is: \", sample_mean)"
   ]
  },
  {
   "cell_type": "code",
   "execution_count": 11,
   "metadata": {
    "colab": {
     "base_uri": "https://localhost:8080/",
     "height": 300
    },
    "colab_type": "code",
    "id": "oi8JidG1nQt0",
    "outputId": "a82ef051-a3b4-4300-9260-91045e701417"
   },
   "outputs": [
    {
     "data": {
      "text/plain": [
       "Text(0,0.5,'Counts')"
      ]
     },
     "execution_count": 11,
     "metadata": {},
     "output_type": "execute_result"
    },
    {
     "data": {
      "image/png": "[encoded data removed]",
      "text/plain": [
       "<Figure size 432x288 with 1 Axes>"
      ]
     },
     "metadata": {
      "needs_background": "light"
     },
     "output_type": "display_data"
    }
   ],
   "source": [
    "outcomes, counts = np.unique(samples, return_counts=True)\n",
    "plt.bar(outcomes,counts/np.sum(counts))\n",
    "plt.xlabel(\"Outcomes\")\n",
    "plt.ylabel(\"Counts\")"
   ]
  },
  {
   "cell_type": "markdown",
   "metadata": {
    "colab_type": "text",
    "id": "4c3mYD3EZDGn"
   },
   "source": [
    "## Q4 [7 points]\n",
    "\n",
    "We have learned in class that it might be more efficient to start the search from a different starting point. In this exercise, let's start our search from x_a.\n",
    "\n",
    "Define two functions\n",
    "\n",
    "(1) Function 1\n",
    "\n",
    "def CDF_start(x_a):\n",
    "\n",
    "This function will return two values:\n",
    "\n",
    "cdf_start: The CDF at the x_a for the distribution in Q2\n",
    "\n",
    "pmf_start: The PMF at the x_a for the distribution in Q2\n",
    "\n",
    "\n",
    "(2) Function 2\n",
    "\n",
    "Def matchbox_sample_xa(x_a, n, cdf_start,pmf_start):\n",
    "\n",
    "This function will generate a sample using the upward/downward search algorithm at x_a value. The CDF_start, PMF_start are the return values from Function 1. \n",
    "\n",
    "For both Function1 and Function 2, the PMF should be updated using the iterative method.  \n",
    "\n",
    "\n",
    "\n",
    "* Based on function 1 and function 2, generate 100000 samples with x_a = int(expected value of x).    \n",
    "* Print out the sample mean\n",
    "* Visualize the distribution of the 100000 samples using bar chart.\n"
   ]
  },
  {
   "cell_type": "code",
   "execution_count": 13,
   "metadata": {
    "colab": {},
    "colab_type": "code",
    "id": "HGOlH2m2M0WI"
   },
   "outputs": [],
   "source": [
    "n = 75\n",
    "def CDF_start(x_a):\n",
    " \n",
    "  #initialize all values\n",
    "  x_start = np.floor(x_a)\n",
    "  pmf_start = spsp.comb(2*n,n)*((1/2)**(2*n))\n",
    "  cdf_start = pmf_start\n",
    "  \n",
    "  for i in np.arange(1, x_start +1):\n",
    "    pmf_start = pmf_start * 2*(n-(i-1))/(2*n-(i-1))\n",
    "    cdf_start = pmf_start + cdf_start\n",
    " \n",
    "  return pmf_start,cdf_start\n",
    "\n",
    "def matchbox_sample_xa(x_a, pmf_start, cdf_start):\n",
    "  x_start = np.floor(x_a)\n",
    "  u = np.random.rand()  \n",
    "\n",
    "  #Start upward search:\n",
    "  if u >= cdf_start:\n",
    "    x_start = x_start +1\n",
    "    pmf_start = pmf_start * 2*(n-(x_start-1))/(2*n-(x_start-1))\n",
    "    cdf_start = pmf_start + cdf_start\n",
    "    while(u>= cdf_start):\n",
    "      x_start = x_start +1\n",
    "      pmf_start = pmf_start * 2*(n-(x_start-1))/(2*n-(x_start-1))\n",
    "      cdf_start = pmf_start + cdf_start\n",
    "  else:\n",
    "    cdf_start= cdf_start - pmf_start\n",
    "    while(u<cdf_start):\n",
    "      pmf_start = pmf_start/(2*(n-(x_start-1))/(2*n-(x_start-1)))\n",
    "      cdf_start = cdf_start - pmf_start\n",
    "      x_start = x_start - 1\n",
    "  #print(\"x_start:\", x_start)\n",
    "  return x_start\n",
    "\n"
   ]
  },
  {
   "cell_type": "code",
   "execution_count": 14,
   "metadata": {
    "colab": {
     "base_uri": "https://localhost:8080/",
     "height": 333
    },
    "colab_type": "code",
    "id": "O3KVv5Uh457i",
    "outputId": "c466bb46-6cc5-4c3e-dc8d-b7320eaf1a95"
   },
   "outputs": [
    {
     "name": "stdout",
     "output_type": "stream",
     "text": [
      "[ 2.  8. 12. ...  6.  5.  1.]\n",
      "The sample mean is:  8.80602\n"
     ]
    },
    {
     "data": {
      "text/plain": [
       "Text(0,0.5,'Counts')"
      ]
     },
     "execution_count": 14,
     "metadata": {},
     "output_type": "execute_result"
    },
    {
     "data": {
      "image/png": "[encoded data removed]",
      "text/plain": [
       "<Figure size 432x288 with 1 Axes>"
      ]
     },
     "metadata": {
      "needs_background": "light"
     },
     "output_type": "display_data"
    }
   ],
   "source": [
    "x_a = sample_mean\n",
    "CDF_start(x_a)\n",
    "\n",
    "a,b = CDF_start(x_a)\n",
    "\n",
    "samples_new=np.array([matchbox_sample_xa(sample_mean, a, b) for i in range(100000)])\n",
    "print (samples_new)\n",
    "\n",
    "print (\"The sample mean is: \", np.mean(samples_new))\n",
    "\n",
    "\n",
    "outcomes, counts = np.unique(samples_new, return_counts=True)\n",
    "plt.bar(outcomes,counts/np.sum(counts))\n",
    "plt.xlabel(\"Outcomes\")\n",
    "plt.ylabel(\"Counts\")"
   ]
  },
  {
   "cell_type": "markdown",
   "metadata": {
    "colab_type": "text",
    "id": "iUzt4d4yUl7t"
   },
   "source": [
    "##Q5 [5 points]\n",
    "\n",
    "In Q2, we have already computed the CDF array. Thus, instead of computing the PMF/CDF everytime when we generate a sample. We can instead use that CDF array to directly get the CDF corresponding to different x values. \n",
    "\n",
    "Fill in Function:\n",
    "\n",
    "def matchbox_sample_xa_alt(x_a):\n",
    "\n",
    "\n",
    "Inside the function, you will do the same thing as Q4 except the CDF(x) will be retrieved from the array you constructed in Q2.\n",
    "\n",
    "Based on this function, \n",
    "* Generate 100000 samples with x_a equals  int(expected value of x).    \n",
    "* Print out the sample mean\n",
    "* Visualize the distribution of the 100000 samples using bar chart.\n"
   ]
  },
  {
   "cell_type": "code",
   "execution_count": 15,
   "metadata": {
    "colab": {},
    "colab_type": "code",
    "id": "7XDfSO_dsef3"
   },
   "outputs": [],
   "source": [
    " n = 75\n",
    "\n",
    "Outcomes = np.arange(n+1)\n",
    "PMF_arr = spsp.comb(2*n-Outcomes,n)*(1/2)**(2*n-Outcomes)\n",
    "\n",
    "CDF_arr = np.cumsum(PMF_arr)\n",
    "\n",
    "def matchbox_sample_xa_alt(x_a):\n",
    "  x_start = int(x_a)\n",
    "  cdf_start = CDF_arr[x_start]\n",
    "  u = np.random.rand()  \n",
    "\n",
    "  #Start upward search:\n",
    "  if u >= cdf_start:\n",
    "    while(u>= cdf_start):\n",
    "      x_start = x_start+1\n",
    "      cdf_start = CDF_arr[x_start]\n",
    "  else:\n",
    "    cdf_start= CDF_arr[x_start-1]\n",
    "    while(u<cdf_start):\n",
    "      x_start = x_start - 1\n",
    "      if (x_start == 0):\n",
    "        return 0\n",
    "      else:\n",
    "        cdf_start = CDF_arr[x_start-1]\n",
    "\n",
    "  #print(\"x_start:\", x_start)\n",
    "  return x_start"
   ]
  },
  {
   "cell_type": "code",
   "execution_count": 16,
   "metadata": {},
   "outputs": [
    {
     "data": {
      "text/plain": [
       "array([17, 13,  3, 15, 13, 11, 13,  9, 16, 23, 11, 13,  7, 15, 16, 15,  6,\n",
       "       15, 11, 15])"
      ]
     },
     "execution_count": 16,
     "metadata": {},
     "output_type": "execute_result"
    }
   ],
   "source": [
    "samples_new_alt=np.array([matchbox_sample_xa_alt(sample_mean) for i in range(20)])\n",
    "samples_new_alt"
   ]
  },
  {
   "cell_type": "code",
   "execution_count": 17,
   "metadata": {
    "colab": {
     "base_uri": "https://localhost:8080/",
     "height": 316
    },
    "colab_type": "code",
    "id": "11kr-qgHrCst",
    "outputId": "3061f492-c48e-471b-d3e1-acb00c89fb61"
   },
   "outputs": [
    {
     "name": "stdout",
     "output_type": "stream",
     "text": [
      "The sample mean is:  8.80422\n"
     ]
    },
    {
     "data": {
      "text/plain": [
       "Text(0,0.5,'Counts')"
      ]
     },
     "execution_count": 17,
     "metadata": {},
     "output_type": "execute_result"
    },
    {
     "data": {
      "image/png": "[encoded data removed]",
      "text/plain": [
       "<Figure size 432x288 with 1 Axes>"
      ]
     },
     "metadata": {
      "needs_background": "light"
     },
     "output_type": "display_data"
    }
   ],
   "source": [
    "samples_new_alt=np.array([matchbox_sample_xa_alt(sample_mean) for i in range(100000)])\n",
    "print (\"The sample mean is: \", np.mean(samples_new_alt))\n",
    "\n",
    "outcomes, counts = np.unique(samples_new_alt, return_counts=True)\n",
    "plt.bar(outcomes,counts/np.sum(counts))\n",
    "plt.xlabel(\"Outcomes\")\n",
    "plt.ylabel(\"Counts\")"
   ]
  },
  {
   "cell_type": "code",
   "execution_count": 18,
   "metadata": {},
   "outputs": [
    {
     "data": {
      "text/plain": [
       "8.0"
      ]
     },
     "execution_count": 18,
     "metadata": {},
     "output_type": "execute_result"
    }
   ],
   "source": [
    "np.median(samples_new)"
   ]
  },
  {
   "cell_type": "code",
   "execution_count": 19,
   "metadata": {},
   "outputs": [],
   "source": [
    "from scipy import stats"
   ]
  },
  {
   "cell_type": "code",
   "execution_count": 20,
   "metadata": {},
   "outputs": [
    {
     "data": {
      "text/plain": [
       "ModeResult(mode=array([0.]), count=array([6627]))"
      ]
     },
     "execution_count": 20,
     "metadata": {},
     "output_type": "execute_result"
    }
   ],
   "source": [
    "stats.mode(samples_new)"
   ]
  },
  {
   "cell_type": "markdown",
   "metadata": {
    "colab_type": "text",
    "id": "RWqQfTBDgeTy"
   },
   "source": [
    "##Q6. [7 points]\n",
    "\n",
    "\n",
    "Based on %%timeit, do the following comparison\n",
    "\n",
    "\n",
    "* The performance in Q3 v.s. Q4\n",
    "\n",
    "* The performance in Q4 v.s. Q5\n",
    "\n",
    "* In addition, we are interested in whether np.floor(expected value of x) is the optimal starting value for Q5. \n",
    "\n",
    ">> Try different x_a and see whether you can find any x_a faster than int(expected value of x)\n",
    "\n",
    "> >If you find no other value is better than int(expected value of x), explain why int(expected value of x) is the best starting value. If you find another value that is better than int(expected value of x), explain why the result is not consistant with Poisson distribution. \n"
   ]
  },
  {
   "cell_type": "code",
   "execution_count": 21,
   "metadata": {
    "colab": {
     "base_uri": "https://localhost:8080/",
     "height": 33
    },
    "colab_type": "code",
    "id": "xz2oVgLO1CzZ",
    "outputId": "07fc0dda-bf37-48e4-eba9-067931513270"
   },
   "outputs": [
    {
     "name": "stdout",
     "output_type": "stream",
     "text": [
      "1.31 s ± 56.5 ms per loop (mean ± std. dev. of 7 runs, 1 loop each)\n"
     ]
    }
   ],
   "source": [
    "%%timeit\n",
    "n=75\n",
    "samples=np.array([matchbox_sample() for i in range(100000)])\n",
    "sample_mean = np.mean(samples)"
   ]
  },
  {
   "cell_type": "code",
   "execution_count": 22,
   "metadata": {
    "colab": {
     "base_uri": "https://localhost:8080/",
     "height": 33
    },
    "colab_type": "code",
    "id": "LyZfXhVk1CXm",
    "outputId": "1adb1a1f-0c22-479c-b2ea-9591efcef972"
   },
   "outputs": [
    {
     "name": "stdout",
     "output_type": "stream",
     "text": [
      "1.07 s ± 35.2 ms per loop (mean ± std. dev. of 7 runs, 1 loop each)\n"
     ]
    }
   ],
   "source": [
    "%%timeit\n",
    "a,b = CDF_start(x_a)\n",
    "samples_new=np.array([matchbox_sample_xa(sample_mean, a, b) for i in range(100000)])"
   ]
  },
  {
   "cell_type": "markdown",
   "metadata": {},
   "source": [
    "*The performance of Q4 is better than Q3*"
   ]
  },
  {
   "cell_type": "code",
   "execution_count": 23,
   "metadata": {
    "colab": {
     "base_uri": "https://localhost:8080/",
     "height": 33
    },
    "colab_type": "code",
    "id": "UVXbWcDC1CNf",
    "outputId": "e983b3a9-baf6-4034-8cde-7a41c37614ee"
   },
   "outputs": [
    {
     "name": "stdout",
     "output_type": "stream",
     "text": [
      "223 ms ± 9.96 ms per loop (mean ± std. dev. of 7 runs, 1 loop each)\n"
     ]
    }
   ],
   "source": [
    "%%timeit\n",
    "samples_new_alt=np.array([matchbox_sample_xa_alt(sample_mean) for i in range(100000)])\n",
    "np.mean(samples_new_alt)"
   ]
  },
  {
   "cell_type": "markdown",
   "metadata": {},
   "source": [
    "The performance of Q5 is better than Q4"
   ]
  },
  {
   "cell_type": "markdown",
   "metadata": {},
   "source": [
    "I cannot find a better value than the expected value. The reason is expected value is the value we would expect most out of our distribution. Therefore, the random variable will most likely be around expected value. Moreover, because of the unimodal curve, expected value makes sense."
   ]
  },
  {
   "cell_type": "code",
   "execution_count": 36,
   "metadata": {},
   "outputs": [
    {
     "name": "stdout",
     "output_type": "stream",
     "text": [
      "205 ms ± 8.56 ms per loop (mean ± std. dev. of 7 runs, 1 loop each)\n"
     ]
    }
   ],
   "source": [
    "%%timeit\n",
    "samples_new_alt=np.array([matchbox_sample_xa_alt(sample_mean) for i in range(100000)])\n",
    "np.mean(samples_new_alt)"
   ]
  },
  {
   "cell_type": "markdown",
   "metadata": {
    "colab_type": "text",
    "id": "GcvJ4l95_jQm"
   },
   "source": [
    "##Q7. [7 points]\n",
    "\n",
    "It can be shown that when for any values of $n_l$, $n_r$ and $p$. The PMF of $k$ follows:\n",
    "\n",
    "$$\n",
    "P(\\textrm{There are }k\\textrm{ matches in the other matchbox}) = \\frac{(n_l+n_r- k)!}{(n_r-k)!(n_l)!}\\left(p\\right)^{n_l+1}\\left(1-p\\right)^{n_r-k}+\\frac{(n_l+n_r- k)!}{(n_l-k)!(n_r)!}\\left(p\\right)^{n_l-k}\\left(1-p\\right)^{n_r+1}\n",
    "$$\n",
    "\n",
    "where $k=0,1,2,3,...max(n_l,n_r)$\n",
    "\n",
    "\n",
    "* Visualize the PMF the distribution of $k$ with the parameter values used in Q1.\n",
    "* Compute the CDF array and print it out.\n",
    "\n"
   ]
  },
  {
   "cell_type": "code",
   "execution_count": 25,
   "metadata": {
    "colab": {
     "base_uri": "https://localhost:8080/",
     "height": 300
    },
    "colab_type": "code",
    "id": "BpbuRV_YaQqZ",
    "outputId": "267a3279-0a0d-4b32-c73b-04a55939bcae"
   },
   "outputs": [
    {
     "data": {
      "text/plain": [
       "Text(0,0.5,'PMF')"
      ]
     },
     "execution_count": 25,
     "metadata": {},
     "output_type": "execute_result"
    },
    {
     "data": {
      "image/png": "[encoded data removed]",
      "text/plain": [
       "<Figure size 432x288 with 1 Axes>"
      ]
     },
     "metadata": {
      "needs_background": "light"
     },
     "output_type": "display_data"
    }
   ],
   "source": [
    "nl,nr,p=40,35,0.55\n",
    "Outcomes=np.arange(max(nl,nr))\n",
    "PMF=spsp.comb(nl+nr-Outcomes,nl)*((p)**(nl+1))*((1-p)**(nr-Outcomes))+spsp.comb(nl+nr-Outcomes,nr)*((p)**(nl-Outcomes))*((1-p)**(nr+1))\n",
    "plt.bar(Outcomes,PMF)\n",
    "plt.xlabel(\"Outcomes\")\n",
    "plt.ylabel(\"PMF\")"
   ]
  },
  {
   "cell_type": "code",
   "execution_count": 26,
   "metadata": {},
   "outputs": [
    {
     "name": "stdout",
     "output_type": "stream",
     "text": [
      "The mean of distribution is:  <function mean at 0x0000019D7AAB4A60>\n"
     ]
    }
   ],
   "source": [
    "print(\"The mean of distribution is: \", np.mean)"
   ]
  },
  {
   "cell_type": "code",
   "execution_count": 27,
   "metadata": {
    "colab": {
     "base_uri": "https://localhost:8080/",
     "height": 33
    },
    "colab_type": "code",
    "id": "r2ifxr2Ocwnv",
    "outputId": "b5231230-133b-497f-d18d-89150b328eef"
   },
   "outputs": [
    {
     "name": "stdout",
     "output_type": "stream",
     "text": [
      "The CDF array is: [0.08824286 0.17707995 0.26536669 0.35191224 0.43552762 0.51507849\n",
      " 0.58953904 0.65804269 0.71992512 0.77475559 0.82235311 0.86278563\n",
      " 0.896352   0.92354843 0.94502283 0.96152179 0.97383576 0.98274781\n",
      " 0.98899057 0.99321463 0.99596964 0.99769786 0.99873822 0.99933782\n",
      " 0.99966795 0.9998412  0.99992771 0.99996873 0.99998717 0.99999503\n",
      " 0.99999819 0.99999938 0.99999981 0.99999994 0.99999999 1.\n",
      " 1.         1.         1.         1.        ]\n"
     ]
    }
   ],
   "source": [
    "CDF = np.cumsum(PMF)\n",
    "print(\"The CDF array is:\", CDF)"
   ]
  },
  {
   "cell_type": "markdown",
   "metadata": {
    "colab_type": "text",
    "id": "FXlzZw7qdWYs"
   },
   "source": [
    "## Q8. [7 points]\n",
    "\n",
    "Let's try to implement the method used in Q5 by filling the following function\n",
    "\n",
    "def matchbox_sample_general(x_a):\n",
    "\n",
    "This function will generate a sample from the distribution in Q7 using the method discussed in Q5. \n",
    "\n",
    "After that \n",
    "\n",
    "* Argue what the best x_a value is for this function. \n",
    "* Based on the best x_a value, draw 100000 samples from this distribution. \n",
    "* Print out the sample mean\n",
    "* Visualize the distribution of the 100000 samples using bar chart.\n",
    "* Based on %%timeit compare the efficiency between Q1 method and Q8 method."
   ]
  },
  {
   "cell_type": "code",
   "execution_count": 28,
   "metadata": {
    "colab": {},
    "colab_type": "code",
    "id": "Wsd8eCoOdV5y"
   },
   "outputs": [],
   "source": [
    "def matchbox_sample_general(x_a):\n",
    "  x_start = int(x_a)\n",
    "  cdf_start = CDF[x_start]\n",
    "  u = np.random.rand()  \n",
    "\n",
    "  #Start upward search:\n",
    "  if u >= cdf_start:\n",
    "    while(u>= cdf_start):\n",
    "      x_start = x_start+1\n",
    "      cdf_start = CDF[x_start]\n",
    "  else:\n",
    "    cdf_start= CDF[x_start-1]\n",
    "    while(u<cdf_start):\n",
    "      x_start = x_start - 1\n",
    "      if (x_start == 0):\n",
    "        return 0\n",
    "      else:\n",
    "        cdf_start = CDF[x_start-1]\n",
    "\n",
    "  #print(\"x_start:\", x_start)\n",
    "  return x_start"
   ]
  },
  {
   "cell_type": "markdown",
   "metadata": {},
   "source": [
    "Expected value should be start point. The reason is expected value is the value we would expect most out of our distribution. Therefore, the random variable generated will most likely be around expected value. Moreover, because of the unimodal curve, expected value makes sense."
   ]
  },
  {
   "cell_type": "code",
   "execution_count": 29,
   "metadata": {},
   "outputs": [
    {
     "name": "stdout",
     "output_type": "stream",
     "text": [
      "6.083028520327899\n"
     ]
    }
   ],
   "source": [
    "nl,nr,p=40,35,0.55\n",
    "Outcomes=np.arange(max(nl,nr))\n",
    "PMF=spsp.comb(nl+nr-Outcomes,nl)*((p)**(nl+1))*((1-p)**(nr-Outcomes))+spsp.comb(nl+nr-Outcomes,nr)*((p)**(nl-Outcomes))*((1-p)**(nr+1))\n",
    "mean=np.sum(Outcomes*PMF)\n",
    "print (mean)"
   ]
  },
  {
   "cell_type": "code",
   "execution_count": 30,
   "metadata": {},
   "outputs": [
    {
     "name": "stdout",
     "output_type": "stream",
     "text": [
      "The sample mean is 6.0463\n"
     ]
    }
   ],
   "source": [
    "samples_gen=np.array([matchbox_sample_general(mean) for i in range(100000)])\n",
    "print (\"The sample mean is\", np.mean(samples_gen))"
   ]
  },
  {
   "cell_type": "code",
   "execution_count": 31,
   "metadata": {},
   "outputs": [
    {
     "data": {
      "text/plain": [
       "Text(0,0.5,'Probability')"
      ]
     },
     "execution_count": 31,
     "metadata": {},
     "output_type": "execute_result"
    },
    {
     "data": {
      "image/png": "[encoded data removed]",
      "text/plain": [
       "<Figure size 432x288 with 1 Axes>"
      ]
     },
     "metadata": {
      "needs_background": "light"
     },
     "output_type": "display_data"
    }
   ],
   "source": [
    "outcomes, counts = np.unique(samples_gen, return_counts=True)\n",
    "plt.bar(outcomes,counts/np.sum(counts))\n",
    "plt.xlabel(\"Number of matches\")\n",
    "plt.ylabel(\"Probability\")"
   ]
  },
  {
   "cell_type": "code",
   "execution_count": 32,
   "metadata": {},
   "outputs": [
    {
     "name": "stdout",
     "output_type": "stream",
     "text": [
      "4.23 s ± 939 ms per loop (mean ± std. dev. of 7 runs, 1 loop each)\n"
     ]
    }
   ],
   "source": [
    "%%timeit\n",
    "sample1 = [matchbox_problem(nl, nr, p)[1] for i in range(100000)]"
   ]
  },
  {
   "cell_type": "code",
   "execution_count": 33,
   "metadata": {},
   "outputs": [
    {
     "name": "stdout",
     "output_type": "stream",
     "text": [
      "221 ms ± 5.97 ms per loop (mean ± std. dev. of 7 runs, 1 loop each)\n"
     ]
    }
   ],
   "source": [
    "%%timeit\n",
    "sample8 = [matchbox_sample_general(mean) for i in range(100000)]"
   ]
  },
  {
   "cell_type": "markdown",
   "metadata": {},
   "source": [
    "Q8 is more efficient than Q1"
   ]
  },
  {
   "cell_type": "markdown",
   "metadata": {
    "colab_type": "text",
    "id": "pXUdxxyupb2e"
   },
   "source": [
    "#Exercise 2 [Total: 6 Points]\n"
   ]
  },
  {
   "cell_type": "markdown",
   "metadata": {
    "colab_type": "text",
    "id": "p1-Ww9JwvbsW"
   },
   "source": [
    "A number is said to satisfy Benford's law if the leading digit d (d ∈ {1, ..., 9}) occurs with probability:\n",
    "\n",
    "$P(d)=\\log _{10}(d+1)-\\log _{10}(d)=\\log _{10}\\left({\\frac {d+1}{d}}\\right)=\\log _{10}\\left(1+{\\frac {1}{d}}\\right)$\n",
    "\n",
    "\n"
   ]
  },
  {
   "cell_type": "markdown",
   "metadata": {
    "colab_type": "text",
    "id": "brV-FFJxvf99"
   },
   "source": [
    "\n",
    "We discussed a shortcut that can help us implement the inverse transform method without doing the search. The examples we have seen so far include geometric distribution and uniform discrete distribution.  Please derive the formula (You do not need to show the derivation in your submission). [Hint: you will need to derive the CDF first and then compute the value between $d$ and $d+1$]\n",
    "\n",
    "- <font color='blue'>Based on your derivation result, simulate 100000 samples from this distribution. Plot the distribution of the samples using a bar chart. Also, show the scatter plot of the theoretical pmf on the same chart. Properly label the x axis, y axis, and the title.</font > \n"
   ]
  },
  {
   "cell_type": "code",
   "execution_count": 34,
   "metadata": {
    "colab": {},
    "colab_type": "code",
    "id": "fdCIbygapeDf"
   },
   "outputs": [
    {
     "data": {
      "text/plain": [
       "array([3., 3., 4., ..., 3., 7., 4.])"
      ]
     },
     "execution_count": 34,
     "metadata": {},
     "output_type": "execute_result"
    }
   ],
   "source": [
    "u=np.random.rand(100000)\n",
    "samples=np.floor(10**u)\n",
    "samples"
   ]
  },
  {
   "cell_type": "code",
   "execution_count": 35,
   "metadata": {
    "colab": {},
    "colab_type": "code",
    "id": "GzrWPzIrbcqY"
   },
   "outputs": [
    {
     "data": {
      "image/png": "[encoded data removed]",
      "text/plain": [
       "<Figure size 432x288 with 1 Axes>"
      ]
     },
     "metadata": {
      "needs_background": "light"
     },
     "output_type": "display_data"
    }
   ],
   "source": [
    "values, counts=np.unique(samples,return_counts=True)\n",
    "plt.bar(values,counts/np.sum(counts),label=\"sample distribution\")\n",
    "outcomes=np.arange(1,9)\n",
    "pmf=np.log10(1+1/outcomes)\n",
    "plt.scatter(outcomes,pmf,zorder=2,label=\"theoretical distribution\")\n",
    "plt.legend(loc=\"best\")\n",
    "plt.suptitle('sample distribution(bar chart) vs theoretical distribution(scatter plot)')\n",
    "plt.xlabel(\"Samples\")\n",
    "plt.ylabel(\"Distribution\")\n",
    "plt.show()"
   ]
  },
  {
   "cell_type": "code",
   "execution_count": null,
   "metadata": {},
   "outputs": [],
   "source": []
  }
 ],
 "metadata": {
  "colab": {
   "collapsed_sections": [],
   "name": "Copy of HW3 (IEOR 4404 Fall 2019).ipynb",
   "provenance": []
  },
  "kernelspec": {
   "display_name": "Python 3",
   "language": "python",
   "name": "python3"
  },
  "language_info": {
   "codemirror_mode": {
    "name": "ipython",
    "version": 3
   },
   "file_extension": ".py",
   "mimetype": "text/x-python",
   "name": "python",
   "nbconvert_exporter": "python",
   "pygments_lexer": "ipython3",
   "version": "3.7.0"
  }
 },
 "nbformat": 4,
 "nbformat_minor": 1
}
