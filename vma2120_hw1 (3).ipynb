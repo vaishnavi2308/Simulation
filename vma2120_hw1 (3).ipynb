{
 "cells": [
  {
   "cell_type": "markdown",
   "metadata": {
    "colab_type": "text",
    "id": "9JCRnqkLnjHE"
   },
   "source": [
    "# **IEOR 4404  Simulation (Fall 2019)**\n",
    "\n",
    "**Homework 1 [Total points: 60]**\n",
    "\n",
    "** Due: 11:59 PM, September 24**\n",
    "\n",
    "This first homework consists of Python programming practices and the applications to statistics. You will only need to knowledge up to lecture 4 to answer these questions.\n",
    "\n",
    "The steps to finish in the homework:\n",
    "\n",
    "*   Step 1: Make a copy of the file to your LionDrive.\n",
    "*   Step 2: Work with the copy (an ipynb file).\n",
    "*    <font color='red'>**Step 3: Rename the copy to your_uni_hw1.ipynb (For example: yd4501_hw1.ipynb).**</font>  \n",
    "*   Step 4: Submit the copy on CourseWorks.\n",
    "\n",
    "Before you submit your assignment, make sure to re-run your code from the beginning. (You can do so by first clicking Runtime/Reset All Runtimes and then clicking Runtime/Run all)\n",
    "\n",
    "\n",
    "**All the questions in this homework requires coding**"
   ]
  },
  {
   "cell_type": "code",
   "execution_count": 1,
   "metadata": {
    "colab": {},
    "colab_type": "code",
    "id": "lSH_bDnX2ybu"
   },
   "outputs": [],
   "source": [
    "#This imports all the packages you need for the homework\n",
    "\n",
    "#Please run this first\n",
    "#we will need this for array operation\n",
    "import numpy as np\n",
    "\n",
    "#We will need this for factorial computation\n",
    "import scipy.special as spsp\n",
    "\n",
    "#We will need this for visualization\n",
    "import matplotlib.pyplot as plt\n",
    "\n",
    "#We can use this for math functions\n",
    "import math\n",
    "\n",
    "#We can use this for stats functions\n",
    "import scipy.stats as stats"
   ]
  },
  {
   "cell_type": "markdown",
   "metadata": {
    "colab_type": "text",
    "id": "85PhtRJHpEMr"
   },
   "source": [
    "# Exercise 1 [Total: 20 Points]\n",
    "\n",
    "In this exercise, we will work on some problems that will help you practice your programming kills. \n",
    "\n",
    "You might find some of the following functions useful. \n",
    "\n",
    "`np.array()`, `np.arange()`, `np.sum()`, `np.min()`, `np.max()`, `np.abs()`, `np.mean()`\n",
    "\n",
    "These functions are either covered in the lectures or should be self explanatory. \n",
    "\n",
    "If you are not sure about how to use a specific function, Google the function name. "
   ]
  },
  {
   "cell_type": "markdown",
   "metadata": {
    "colab_type": "text",
    "id": "HdR4J86Fpfqd"
   },
   "source": [
    "## Q1 [7 points]\n",
    "Without using a loop, perform the following task:\n",
    "\n",
    "(1) Define an array as follows \n",
    "     [1,2,3,4,5,5,3,4,2,1,1,3,2,4,5]\n",
    "\n",
    "(2) For this array, return the value furthest away from the mean.\n",
    "\n",
    "(2) If multiple values are tied for the step 2, the function should return the highest value among these values. \n",
    "\n"
   ]
  },
  {
   "cell_type": "code",
   "execution_count": 2,
   "metadata": {
    "colab": {
     "base_uri": "https://localhost:8080/",
     "height": 83
    },
    "colab_type": "code",
    "id": "E6nQ96Wiam9z",
    "outputId": "7317ff05-f6b2-420f-e4fa-a67ae39c0fe0"
   },
   "outputs": [
    {
     "name": "stdout",
     "output_type": "stream",
     "text": [
      "The values furthest from mean are: [1 5]\n",
      "The highest value furthest from mean is: 5\n"
     ]
    }
   ],
   "source": [
    "Array1=np.array([1,2,3,4,5,5,3,4,2,1,1,3,2,4,5])\n",
    "abs_array=np.abs(Array1-np.mean(Array1))\n",
    "#print(abs_array)\n",
    "#print(\"The maximum distance is\", np.max(abs_array))\n",
    "print(\"The values furthest from mean are:\", np.unique(Array1[np.where(abs_array == np.max(abs_array))]))\n",
    "print(\"The highest value furthest from mean is:\", np.max(Array1[np.where(abs_array == np.max(abs_array))]))"
   ]
  },
  {
   "cell_type": "markdown",
   "metadata": {
    "colab_type": "text",
    "id": "Ny0Hn_JLqaoi"
   },
   "source": [
    "## Q2 [7 points]\n",
    "Perform the following task.\n",
    "\n",
    "(1) define a=100, b=7, c=3\n",
    "\n",
    "(2) use a loop to check every interger between 0 and $a$ and see if the value is divisible by $b$ but not by $c$. Here divisible means when a number is divided by another value, the remainder is equal to 0.\n",
    "\n",
    "(3) in your final output, print out a numpy array that contains all the values between 0 and $a$ that satisfy the condition listed in step (2)\n",
    "\n"
   ]
  },
  {
   "cell_type": "code",
   "execution_count": 3,
   "metadata": {
    "colab": {
     "base_uri": "https://localhost:8080/",
     "height": 33
    },
    "colab_type": "code",
    "id": "XgR2-LOubuUn",
    "outputId": "41fa8974-76ff-4911-9d77-c70e2bb09679"
   },
   "outputs": [
    {
     "name": "stdout",
     "output_type": "stream",
     "text": [
      "The array satisfying divisibility condition is: [ 7. 14. 28. 35. 49. 56. 70. 77. 91. 98.]\n"
     ]
    }
   ],
   "source": [
    "a=100\n",
    "b=7\n",
    "c=3\n",
    "\n",
    "div = np.array([])\n",
    "for i in range(0,a+1):\n",
    "    if i%b==0 and i%c!=0:\n",
    "        div=np.append(div, i)\n",
    "\n",
    "print(\"The array satisfying divisibility condition is:\", div)\n",
    "    \n"
   ]
  },
  {
   "cell_type": "markdown",
   "metadata": {
    "colab_type": "text",
    "id": "lri2_TqON6Wq"
   },
   "source": [
    "##Q3 [6 points]\n",
    "\n",
    "Without using loop, perform the task described in Q2"
   ]
  },
  {
   "cell_type": "code",
   "execution_count": 4,
   "metadata": {
    "colab": {
     "base_uri": "https://localhost:8080/",
     "height": 33
    },
    "colab_type": "code",
    "id": "mG6YisodN5-n",
    "outputId": "25b42e82-03ee-4532-c75c-77fb1b51b55d"
   },
   "outputs": [
    {
     "name": "stdout",
     "output_type": "stream",
     "text": [
      "The array satisfying divisibility condition is: [ 7 14 28 35 49 56 70 77 91 98]\n"
     ]
    }
   ],
   "source": [
    "a=100\n",
    "b=7\n",
    "c=3\n",
    "\n",
    "Array1=np.arange(a+1)\n",
    "Div_b=Array1%b\n",
    "Boolean_b=Div_b==0\n",
    "Div_c=Array1%c\n",
    "Boolean_c=Div_c!=0\n",
    "print(\"The array satisfying divisibility condition is:\", np.intersect1d(Array1[Boolean_b],Array1[Boolean_c]))"
   ]
  },
  {
   "cell_type": "markdown",
   "metadata": {
    "colab_type": "text",
    "id": "7r_D6z5ZsyOd"
   },
   "source": [
    "# Exercise 2 [Total: 32 Points]\n",
    "\n",
    "A certain gambling game involves making a bet on a number from 0 to 13, and the dealer dealing out 13 cards face-up from a 52-card deck. If the number of hearts that show up equals the value you bet on, you win twice the number you bet on; otherwise, you pay the difference between your bet and the number that showed up. For example, if you bet on 3, and 5 hearts were dealt, you would pay 2 dollars. If 3 hearts were dealt, you would win 6 dollars.\n",
    "\n",
    "The number of hearts that show up can be modelled by a hypergeometric distribution; the distribution has the PMF\n",
    "\n",
    "$$\n",
    "p(x) = \\frac{\\binom{13}{x} \\binom{39}{13 - x}}{\\binom{52}{13}}\n",
    "$$\n",
    "\n",
    "where $\\binom{n}{k} = \\frac{n!}{k! (n-k)!}$.\n",
    "\n"
   ]
  },
  {
   "cell_type": "markdown",
   "metadata": {
    "colab_type": "text",
    "id": "vcvkZLxLw7h3"
   },
   "source": [
    "## Q1 [8 points]\n",
    "\n",
    "Visualize the PMF of the distribution. Do not use built-in functions that directly provides statistics for hypergeometric distribution.\n",
    "\n",
    "Make sure to give the x_label and y_label."
   ]
  },
  {
   "cell_type": "code",
   "execution_count": 5,
   "metadata": {
    "colab": {
     "base_uri": "https://localhost:8080/",
     "height": 300
    },
    "colab_type": "code",
    "id": "0NVGIBoVxLGe",
    "outputId": "2a75fc00-c40d-4a3c-9774-af52826e491a"
   },
   "outputs": [
    {
     "name": "stdout",
     "output_type": "stream",
     "text": [
      "1.0\n"
     ]
    },
    {
     "data": {
      "image/png": "[encoded data removed]",
      "text/plain": [
       "<Figure size 432x288 with 1 Axes>"
      ]
     },
     "metadata": {
      "needs_background": "light"
     },
     "output_type": "display_data"
    },
    {
     "name": "stdout",
     "output_type": "stream",
     "text": [
      "[1.27909480e-02 8.00618599e-02 2.05873354e-01 2.86329607e-01\n",
      " 2.38608006e-01 1.24691926e-01 4.15639753e-02 8.81660082e-03\n",
      " 1.16690305e-03 9.26113531e-05 4.11606014e-06 9.10185289e-08\n",
      " 7.98408148e-10 1.57476952e-12]\n"
     ]
    }
   ],
   "source": [
    "Outcomes=np.arange(0,14,1)\n",
    "Hyp_pmf=(spsp.comb(13,Outcomes)*spsp.comb(39,13-Outcomes))/spsp.comb(52,13)\n",
    "#print(Hyp_pmf)\n",
    "print(np.sum(Hyp_pmf))\n",
    "plt.bar(Outcomes, Hyp_pmf)\n",
    "plt.xlabel(\"x\")\n",
    "plt.ylabel(\"Probability\")\n",
    "plt.show()\n",
    "print(Hyp_pmf)"
   ]
  },
  {
   "cell_type": "markdown",
   "metadata": {
    "colab_type": "text",
    "id": "4WjE7GbfdA2r"
   },
   "source": [
    "##Q2 [8 points]\n",
    "\n",
    "Visualize the CDF of the distribution from x=-2 to x=18. Do not use built-in functions that directly provides statistics for hypergeometric distribution.\n",
    "\n",
    "Make sure to give the x_label and y_label."
   ]
  },
  {
   "cell_type": "code",
   "execution_count": 6,
   "metadata": {
    "colab": {
     "base_uri": "https://localhost:8080/",
     "height": 350
    },
    "colab_type": "code",
    "id": "KZ5dfK37dOs5",
    "outputId": "f7d1c6ec-793f-464e-8507-95790c3014fb"
   },
   "outputs": [
    {
     "data": {
      "text/plain": [
       "Text(0,0.5,'Probability')"
      ]
     },
     "execution_count": 6,
     "metadata": {},
     "output_type": "execute_result"
    },
    {
     "data": {
      "image/png": "[encoded data removed]",
      "text/plain": [
       "<Figure size 432x288 with 1 Axes>"
      ]
     },
     "metadata": {
      "needs_background": "light"
     },
     "output_type": "display_data"
    }
   ],
   "source": [
    "CDF=np.cumsum(Hyp_pmf)\n",
    "Outcomes=np.arange(-2,19,1)\n",
    "#print(len(Outcomes))\n",
    "CDF=np.insert(CDF,[0,1,-1,-2,-3,-4,-5], [0,0,1,1,1,1,1])\n",
    "#print(len(CDF))\n",
    "plt.step(Outcomes,CDF)\n",
    "plt.xlabel(\"x\")\n",
    "plt.ylabel(\"Probability\")"
   ]
  },
  {
   "cell_type": "markdown",
   "metadata": {
    "colab_type": "text",
    "id": "GmIf4QFkxIKs"
   },
   "source": [
    "## Q3 [8 points]\n",
    "If a person bets 5, compute the **expected value** of his winning amount. Do not use a loop.\n"
   ]
  },
  {
   "cell_type": "code",
   "execution_count": 7,
   "metadata": {
    "colab": {
     "base_uri": "https://localhost:8080/",
     "height": 50
    },
    "colab_type": "code",
    "id": "F_AiXzuLTx_s",
    "outputId": "edb7c4aa-cf04-45b5-c7b0-4480ebd8be06"
   },
   "outputs": [
    {
     "name": "stdout",
     "output_type": "stream",
     "text": [
      "[-5 -4 -3 -2 -1  0 -1 -2 -3 -4 -5 -6 -7 -8]\n",
      "The expected value of winning amount is :  -0.6292596686466094\n"
     ]
    }
   ],
   "source": [
    "x = np.arange(0,14,1)\n",
    "n = 5\n",
    "win = np.abs(x - n)*(-1)\n",
    "print(win)\n",
    "win[np.where(x == n)] = n*2\n",
    "exp_win = np.sum(Hyp_pmf*win)\n",
    "\n",
    "print('The expected value of winning amount is : ', exp_win)"
   ]
  },
  {
   "cell_type": "markdown",
   "metadata": {
    "colab_type": "text",
    "id": "vw9RTO9rxfQT"
   },
   "source": [
    "## Q4 [8 points]\n",
    "\n",
    "Construct an array to store the **expected values** of the winnings corresponding to each betting value from 0 to 13. Loop is allowed.\n",
    "\n",
    "Based on Boolean mask, find out which bettings have a positive expected return and which betting is the most worthwile (highest expected winnings)."
   ]
  },
  {
   "cell_type": "code",
   "execution_count": 8,
   "metadata": {
    "colab": {
     "base_uri": "https://localhost:8080/",
     "height": 100
    },
    "colab_type": "code",
    "id": "gpeS_VBiyE8_",
    "outputId": "2037d1fa-8c67-481a-a576-fa3a76c9bd14"
   },
   "outputs": [
    {
     "name": "stdout",
     "output_type": "stream",
     "text": [
      "The array of expected winnings for different bets is :  [-3.25       -2.11545818 -0.6377941   0.65923781  0.68001267 -0.62925967\n",
      " -2.27412263 -3.62929727 -4.73153179 -5.7483416  -6.74991786 -7.749998\n",
      " -8.74999998 -9.75      ]\n",
      "The bets with positive expected values are :  [3 4]\n",
      "The most worthwhile bet is :  4\n",
      "The respective highest expected winning is :  0.6800126743939218\n"
     ]
    }
   ],
   "source": [
    "exp_win = np.zeros(x.size)\n",
    "n = 13\n",
    "for i in range(n+1):\n",
    "    win = -1*np.abs(x - i)\n",
    "    win[np.where(x == i)] = 2*i\n",
    "    exp_win[i] = np.sum(Hyp_pmf*win)\n",
    "    \n",
    "print('The array of expected winnings for different bets is : ', exp_win)\n",
    "print('The bets with positive expected values are : ', x[exp_win > 0])\n",
    "print('The most worthwhile bet is : ', x[np.argmax(exp_win)])\n",
    "print(\"The respective highest expected winning is : \", exp_win[x[np.argmax(exp_win)]])"
   ]
  },
  {
   "cell_type": "markdown",
   "metadata": {
    "colab_type": "text",
    "id": "lQUBgoF1yFMf"
   },
   "source": [
    "##Exercise 3 [Total: 8 Points]\n",
    "\n",
    "\n",
    "Columbia University is thinking about adopting some new lightbulbs. Assume that the lifespan of a new lightbulb (measured by years) follows a Weibull distribution. A Weibull distribution has the PDF\n",
    "\n",
    "$$f(x) = \\frac{k}{\\lambda}\\left(\\frac{x}{\\lambda}\\right)^{k-1}e^{-(x/\\lambda)^k},$$ for $x \\geq 0$. \n",
    "\n",
    "\n",
    "Let's assume $$k = 0.8, \\lambda = 5$$"
   ]
  },
  {
   "cell_type": "markdown",
   "metadata": {
    "colab_type": "text",
    "id": "NDuEcVKozIde"
   },
   "source": [
    "Visualize the pdf of the lifespan from x=0.001 to x=2, \n",
    "Label the x axis and y axis.\n",
    "\n"
   ]
  },
  {
   "cell_type": "code",
   "execution_count": 9,
   "metadata": {
    "colab": {
     "base_uri": "https://localhost:8080/",
     "height": 300
    },
    "colab_type": "code",
    "id": "qDyoLFyRzR0j",
    "outputId": "44e4f25a-490d-4204-b47e-aebf7e6503f3"
   },
   "outputs": [
    {
     "data": {
      "text/plain": [
       "Text(0,0.5,'Probability')"
      ]
     },
     "execution_count": 9,
     "metadata": {},
     "output_type": "execute_result"
    },
    {
     "data": {
      "image/png": "[encoded data removed]",
      "text/plain": [
       "<Figure size 432x288 with 1 Axes>"
      ]
     },
     "metadata": {
      "needs_background": "light"
     },
     "output_type": "display_data"
    }
   ],
   "source": [
    "k=0.8\n",
    "l=5\n",
    "x_array=np.linspace(0.001,2,1000)\n",
    "pdf_weibull=(k/l)*((x_array/l)**(k-1))*np.exp(-1*(x_array/l)**k)\n",
    "plt.plot(x_array,pdf_weibull)\n",
    "plt.xlabel(\"x\")\n",
    "plt.ylabel(\"Probability\")"
   ]
  },
  {
   "cell_type": "code",
   "execution_count": null,
   "metadata": {
    "colab": {},
    "colab_type": "code",
    "id": "hYZp6bvoehON"
   },
   "outputs": [],
   "source": []
  }
 ],
 "metadata": {
  "colab": {
   "collapsed_sections": [],
   "name": "Copy of HW1 (IEOR E4404 Fall 2019).ipynb",
   "provenance": []
  },
  "kernelspec": {
   "display_name": "Python 3",
   "language": "python",
   "name": "python3"
  },
  "language_info": {
   "codemirror_mode": {
    "name": "ipython",
    "version": 3
   },
   "file_extension": ".py",
   "mimetype": "text/x-python",
   "name": "python",
   "nbconvert_exporter": "python",
   "pygments_lexer": "ipython3",
   "version": "3.7.0"
  }
 },
 "nbformat": 4,
 "nbformat_minor": 1
}
