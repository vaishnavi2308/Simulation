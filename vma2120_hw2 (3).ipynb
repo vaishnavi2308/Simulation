{
  "nbformat": 4,
  "nbformat_minor": 0,
  "metadata": {
    "colab": {
      "name": "Copy of HW2 (IEOR E4404 Fall 2019).ipynb",
      "provenance": [],
      "collapsed_sections": []
    },
    "kernelspec": {
      "name": "python3",
      "display_name": "Python 3"
    }
  },
  "cells": [
    {
      "cell_type": "markdown",
      "metadata": {
        "id": "9JCRnqkLnjHE",
        "colab_type": "text"
      },
      "source": [
        "# **IEOR 4404  Simulation (Fall 2019)**\n",
        "\n",
        "**Homework 2 [Total points: 60]**\n",
        "\n",
        "** Due: 11:59 PM, September 24**\n",
        "\n",
        "This second homework consists of Python programming practices and the applications to statistics. In addition, we also discuss random number generator, Monte-Carlo integration, and basic inverse transform method for discrete variable. You will only need to knowledge up to lecture 7 to answer these questions.\n",
        "\n",
        "The steps to finish in the homework:\n",
        "\n",
        "*   Step 1: Make a copy of the file to your LionDrive.\n",
        "*   Step 2: Work with the copy (an ipynb file).\n",
        "*    <font color='red'>**Step 3: Rename the copy to your_uni_hw1.ipynb (For example: yd4501_hw1.ipynb).**</font>  \n",
        "*   Step 4: Submit the copy on CourseWorks.\n",
        "\n",
        "Before you submit your assignment, make sure to re-run your code from the beginning. (You can do so by first clicking Runtime/Reset All Runtimes and then clicking Runtime/Run all)\n",
        "\n",
        "\n",
        "**All the questions in this homework requires coding**"
      ]
    },
    {
      "cell_type": "code",
      "metadata": {
        "id": "lSH_bDnX2ybu",
        "colab_type": "code",
        "colab": {}
      },
      "source": [
        "#This imports all the packages you need for the homework\n",
        "\n",
        "#Please run this first\n",
        "#we will need this for array operation\n",
        "import numpy as np\n",
        "\n",
        "#We will need this for factorial computation\n",
        "import scipy.special as spsp\n",
        "\n",
        "#We will need this for visualization\n",
        "import matplotlib.pyplot as plt\n",
        "\n",
        "#We can use this for math functions\n",
        "import math\n",
        "\n",
        "#We can use this for stats functions\n",
        "import scipy.stats as stats"
      ],
      "execution_count": 0,
      "outputs": []
    },
    {
      "cell_type": "markdown",
      "metadata": {
        "id": "y733STO_LX2W",
        "colab_type": "text"
      },
      "source": [
        "# Exercise 1 [Total: 40 Points]"
      ]
    },
    {
      "cell_type": "markdown",
      "metadata": {
        "id": "Ny0Hn_JLqaoi",
        "colab_type": "text"
      },
      "source": [
        "## Setting \n",
        "\n",
        "The CDF of a normal distribution is defined as follows:\n",
        "$$F(x)=\\int_{-\\infty}^x \\frac{1}{\\sqrt{2 \\pi \\sigma^2}} exp(-\\frac{(t-\\mu)^2}{2\\sigma^2}) dt $$\n",
        "\n",
        "This integration does not have a closed-form solution. Usually, people use numerical methods to approximate this value. Monte-Carlo integration is one of the methods we can use. \n"
      ]
    },
    {
      "cell_type": "markdown",
      "metadata": {
        "id": "OyGJLO5VLVKx",
        "colab_type": "text"
      },
      "source": [
        "##Q1. [8 points]\n",
        "\n",
        "Construct a function called `normal_cdf`. This function will take four arguments:\n",
        "\n",
        "1. x:  this is the $x$ for $F(x)$\n",
        "2. mu: the mean of the normal distribution. This parameter should take the default value=0.\n",
        "3. sigma: the standard deviation of the normal distribution. This parameter should take the default value=1.\n",
        "4. N: the number of samples we want to draw for this integration. This parameter should take the default value=1000.\n",
        "\n",
        "Inside the function, your function will \n",
        "\n",
        "(1) conduct the monte-carlo integration based on N samples of $X$\n",
        "\n",
        "(2) construct the 95% confidence interval for the integration result. \n",
        "\n",
        "The return value for this function will give\n",
        "\n",
        " (1) the monte-carlo integration result. \n",
        " \n",
        " (2) the lower bound of the 95% confidence interval \n",
        " \n",
        " (3) the upper bound of the 95% confidence interval.\n",
        "\n",
        "Run the function and print the return values when $x=0$, $\\mu=0$, $\\sigma=2$, $N=1000$."
      ]
    },
    {
      "cell_type": "code",
      "metadata": {
        "id": "ZgyhPhTB4Hxl",
        "colab_type": "code",
        "colab": {
          "base_uri": "https://localhost:8080/",
          "height": 50
        },
        "outputId": "fa1fac31-a3cb-4969-aa08-f168e4e16a9f"
      },
      "source": [
        "def normal_cdf(x, mu=0, sigma=1, N=1000):\n",
        "\n",
        "  y=np.random.rand(N)\n",
        "  ty=1+x-(1/y)\n",
        "  hy = (1/(2*np.pi*sigma**2)**0.5*np.exp(-(ty-mu)**2/2/sigma**2))/y**2\n",
        "  std,mean=np.std(hy, ddof=1),np.mean(hy)\n",
        "  lower,upper=mean-1.96*std/N**0.5,mean+1.96*std/N**0.5\n",
        "    \n",
        "  return (mean,lower,upper)\n",
        "  \n",
        "x,y,z=normal_cdf(0,0,2,1000)\n",
        "\n",
        "print(\"Monte Carlo estimate: \"+str(round(x,4)))\n",
        "print(\"Confidence interval: [\"+str(round(y,4))+\",\"+str(round(z,4))+\"]\")\n",
        "\n"
      ],
      "execution_count": 2,
      "outputs": [
        {
          "output_type": "stream",
          "text": [
            "Monte Carlo estimate: 0.4893\n",
            "Confidence interval: [0.4676,0.5109]\n"
          ],
          "name": "stdout"
        }
      ]
    },
    {
      "cell_type": "markdown",
      "metadata": {
        "id": "ldEjHXSgNXKb",
        "colab_type": "text"
      },
      "source": [
        "##Q2. [8 points]\n",
        "It happens that in this case, we can easily infer the true value of the CDF when $x=0$, $\\mu=0$, $\\sigma=2$.\n",
        "\n",
        "Create a function called `Check_CI`. The function will take an argument `Iter`, which has default value=1000. \n",
        "The function should do the following:\n",
        "\n",
        "1. Run the function defined in Q1 `Iter` number of times with $x=0$, $\\mu=0$, $\\sigma=2$ and $N=1000$\n",
        "\n",
        "2. We will have `Iter` number of confidence intervals. Check the percentage of the confidence intervals that include the true value \n",
        "\n",
        "3. Return this percentage [for example 60.5]. \n",
        "\n",
        "Run the function with `Iter`=10000 and show the return value."
      ]
    },
    {
      "cell_type": "code",
      "metadata": {
        "id": "geAFZk6c4EiZ",
        "colab_type": "code",
        "colab": {
          "base_uri": "https://localhost:8080/",
          "height": 33
        },
        "outputId": "350b3799-b7ec-46f0-d568-ea92b392e9a3"
      },
      "source": [
        "true_val=0.5\n",
        "\n",
        "def Check_CI(Iter=1000):\n",
        "  c=0\n",
        "  for i in range(Iter):\n",
        "    mean,lower,upper=normal_cdf(0,0,2,1000)\n",
        "    if true_val>=lower and true_val<=upper:\n",
        "      c=c+1\n",
        "  \n",
        "  return ((c/Iter)*100)\n",
        "\n",
        "print(str(round(Check_CI(10000),4))+\"% of confidence intervals have true value \"+str(true_val))"
      ],
      "execution_count": 3,
      "outputs": [
        {
          "output_type": "stream",
          "text": [
            "95.12% of confidence intervals have true value 0.5\n"
          ],
          "name": "stdout"
        }
      ]
    },
    {
      "cell_type": "markdown",
      "metadata": {
        "id": "lri2_TqON6Wq",
        "colab_type": "text"
      },
      "source": [
        "##Q3 [8 points]\n",
        "\n",
        "Construct a function called `Recover_Shy`: The function will take argument `Iter`, which has default value=1000. \n",
        "\n",
        "The function should do the following:\n",
        "\n",
        "1. Run the function defined in Q1 `Iter` number of times with $x=0$, $\\mu=0$, $\\sigma=2$ and $N=1000$\n",
        "\n",
        "2. We will have `Iter` number of confidence intervals. Recover the $S_{h(y)}$ used for each confidence interval based on the return values of `normal_cdf`\n",
        "\n",
        "3. Plot the distribution of $S_{h(y)}$'s you recovered. \n",
        "\n",
        "4. return an array that stores the $S_{h(y)}$'s you recovered.\n",
        "\n",
        "\n",
        "Run the function with `Iter`=10000 and show the plot.\n",
        "\n",
        "Do you have any suggestion on how to make these confidence intervals we constructed more accurate? [Hint: there is a reason I am asking you to plot the distribution of $S_{hy}$]"
      ]
    },
    {
      "cell_type": "code",
      "metadata": {
        "id": "Co0w1GSM3-lH",
        "colab_type": "code",
        "colab": {
          "base_uri": "https://localhost:8080/",
          "height": 369
        },
        "outputId": "5480f53c-3b52-4e35-c658-5e675a5a80fa"
      },
      "source": [
        "Iter=10000\n",
        "N=1000\n",
        "\n",
        "def Recover_Shy(Iter=1000):\n",
        "  Shy=np.empty(Iter)\n",
        "  \n",
        "  for i in range(Iter):\n",
        "    x,lower,upper=normal_cdf(0,0,2,1000)\n",
        "    Shy[i]=(upper-lower)*N**0.5/(2*1.96)\n",
        "  \n",
        "  print(plt.hist(Shy))\n",
        "  return Shy\n",
        "\n",
        "Recover_Shy(Iter)\n"
      ],
      "execution_count": 4,
      "outputs": [
        {
          "output_type": "stream",
          "text": [
            "(array([  14.,  130.,  547., 1673., 2932., 2721., 1457.,  453.,   65.,\n",
            "          8.]), array([0.32716899, 0.33129237, 0.33541576, 0.33953915, 0.34366253,\n",
            "       0.34778592, 0.35190931, 0.35603269, 0.36015608, 0.36427947,\n",
            "       0.36840285]), <a list of 10 Patch objects>)\n"
          ],
          "name": "stdout"
        },
        {
          "output_type": "execute_result",
          "data": {
            "text/plain": [
              "array([0.34873342, 0.34336259, 0.34569594, ..., 0.34135208, 0.34829262,\n",
              "       0.34214248])"
            ]
          },
          "metadata": {
            "tags": []
          },
          "execution_count": 4
        },
        {
          "output_type": "display_data",
          "data": {
            "image/png": "[encoded data removed]",
            "text/plain": [
              "<Figure size 432x288 with 1 Axes>"
            ]
          },
          "metadata": {
            "tags": []
          }
        }
      ]
    },
    {
      "cell_type": "markdown",
      "metadata": {
        "id": "OLNoGfLbUmB2",
        "colab_type": "text"
      },
      "source": [
        "##Q4 [8 points]\n",
        "\n",
        "Suppose one student suggested an alternative methods to construct the confidence interval:\n",
        "\n",
        "Step 1: Conduct Monte-Carlo integration using $N$ samples of $y$. This will give us a Monte-Carlo integration result ($MCI$). \n",
        "\n",
        "Step 2: Repeat Step 1 K times. We will have K Monte-Carlo integration results. \n",
        "\n",
        "Step 3: Construct the Monte-Carlo integration results using \n",
        "\n",
        "$$\\overline{MCI} \\pm Z_{\\alpha/2}\\frac{S_{MCI}}{\\sqrt{K}}$$\n",
        "\n",
        "\n",
        "Construct the proposed method using a function called `proposed_method`. This function will take values N, K, x, mu, sigma as the argument. Also, this function should return three values: center of the confidence interval, lower bound of the confidence interval, upper bound of the confidence interval based on the method proposed by the student.\n",
        "\n",
        "Run this function with N=1000, K=100, x=0, mu=0, sigma=2 and report the returned result.\n"
      ]
    },
    {
      "cell_type": "code",
      "metadata": {
        "id": "wkZo8s6636tF",
        "colab_type": "code",
        "colab": {
          "base_uri": "https://localhost:8080/",
          "height": 67
        },
        "outputId": "635ba7e1-3ae5-4ac9-dc25-202178dcb523"
      },
      "source": [
        "def proposed_methods(N,K,x,mu,sigma):\n",
        "  mean,std=np.empty(K),np.empty(K)\n",
        "  \n",
        "  for i in range(K):\n",
        "    y=np.random.rand(N)\n",
        "    ty=1+x-1/y\n",
        "    hy=(1/(2*np.pi*sigma**2)**0.5*np.exp(-(ty-mu)**2/2/sigma**2))/y**2\n",
        "    mean[i],std[i]=np.mean(hy),np.std(hy,ddof=1)\n",
        "\n",
        "  MCI_mean,MCI_std=np.mean(mean),np.std(std,ddof = 1)\n",
        "  MCI_lower,MCI_upper=MCI_mean-1.96*MCI_std/N**0.5,MCI_mean+1.96*MCI_std/N**0.5\n",
        "  \n",
        "  return (MCI_mean, MCI_lower, MCI_upper)\n",
        "\n",
        "x,y,z=proposed_methods(1000,100,0,0,2)\n",
        "print(\"Centre of CI=\"+str(round(x,4))+\"\\nLower Bound of CI=\"+str(round(y,4))+\"\\nUpper Bound of CI=\"+str(round(z,4)))"
      ],
      "execution_count": 5,
      "outputs": [
        {
          "output_type": "stream",
          "text": [
            "Centre of CI=0.4992\n",
            "Lower Bound of CI=0.4988\n",
            "Upper Bound of CI=0.4995\n"
          ],
          "name": "stdout"
        }
      ]
    },
    {
      "cell_type": "markdown",
      "metadata": {
        "id": "DwA8mqXA6oH7",
        "colab_type": "text"
      },
      "source": [
        "##Q5 [8 points]\n",
        "\n",
        "Fill in the following function. \n",
        "\n",
        "Inside the function, please do the following \n",
        "\n",
        "(1)  Run the methods in Q1 and Q4 100 times. \n",
        "\n",
        "(2)  For Q4 method, use N=1000, K=100, x=0, mu=0, sigma=2. For Q1 method, use N, x, mu, sigma values that make the two methods comparable (i.e., that make the two methods use the same number of samples).\n",
        "\n",
        "This function will return 4 arrays:\n",
        "\n",
        "(1) The lower bounds of the 100 confidence intervals computed using Q1. \n",
        "\n",
        "(2) The upper bounds of the 100 confidence intervals computed using Q1. \n",
        "\n",
        "(3) The lower bounds of the 100 confidence intervals computed using Q4. \n",
        "\n",
        "(4) The upper bounds of the 100 confidence intervals computed using Q4. \n",
        "\n",
        "\n",
        "Let's define the center value as the center of a confidence interval, and width value as the length of the confidence interval. Based on the return values, validate the following four statements:\n",
        "\n",
        "The mean of center values and width values will be similar for both methods. The variance of the center values will also be similar for both methods. However, the variance of the width values will not very close for both methods. \n",
        "\n",
        "Reason why the difference exits and discuss which method is better.\n",
        "\n"
      ]
    },
    {
      "cell_type": "code",
      "metadata": {
        "id": "29BEDiQ83u-2",
        "colab_type": "code",
        "colab": {
          "base_uri": "https://localhost:8080/",
          "height": 316
        },
        "outputId": "b654f31b-1494-4099-b34a-a95254215977"
      },
      "source": [
        "def compare_methods():\n",
        "  m1_mean,m1_lower,m1_upper=np.empty(100),np.empty(100),np.empty(100)\n",
        "  m2_mean,m2_lower,m2_upper=np.empty(100),np.empty(100),np.empty(100) \n",
        "  \n",
        "  for i in range(0, 100):\n",
        "    m1_mean[i],m1_lower[i],m1_upper[i]=normal_cdf(0,0,2,1000)\n",
        "    m2_mean[i],m2_lower[i],m2_upper[i]=proposed_methods(1000, 100, 0, 0, 2)\n",
        "    \n",
        "  return (m1_lower,m1_upper,m2_lower,m2_upper)\n",
        "\n",
        "m1_lower,m1_upper,m2_lower,m2_upper=compare_methods()\n",
        "m1_center_val,m2_center_val=(m1_lower+m1_upper)/2,(m2_lower+m2_upper)/2\n",
        "m1_width_val,m2_width_val=m1_upper-m1_lower,m2_upper-m2_lower\n",
        "\n",
        "print(\"Mean of center value for method 1:\", np.mean(m1_center_val))\n",
        "print(\"Mean of center value for method 2:\", np.mean(m2_center_val))\n",
        "print(\"Thus mean of center values for both methods are SIMILAR\")\n",
        "print(\"\\n\")\n",
        "print(\"Mean of width value for method 1:\", np.mean(m1_width_val))\n",
        "print(\"Mean of width value for method 2:\", np.mean(m2_width_val))\n",
        "print(\"Thus mean of center values for both methods are NOT SIMILAR\")\n",
        "print(\"\\n\")\n",
        "print(\"Variance of center value for method 1:\", np.var(m1_center_val))\n",
        "print(\"Variance of center value for method 2:\", np.var(m2_center_val))\n",
        "print(\"Thus variance of center values for both methods are NOT SIMILAR\")\n",
        "print(\"\\n\")\n",
        "print(\"Variance of width value for method 1:\", np.var(m1_width_val))\n",
        "print(\"Variance of width value for method 2:\", np.var(m2_width_val))\n",
        "print(\"Thus variance of center values for both methods are SIMILAR\")"
      ],
      "execution_count": 11,
      "outputs": [
        {
          "output_type": "stream",
          "text": [
            "Mean of center value for method 1: 0.49804042576712954\n",
            "Mean of center value for method 2: 0.4999955022188225\n",
            "Thus mean of center values for both methods are SIMILAR\n",
            "\n",
            "\n",
            "Mean of width value for method 1: 0.043005356958411255\n",
            "Mean of width value for method 2: 0.0006591175742885991\n",
            "Thus mean of center values for both methods are NOT SIMILAR\n",
            "\n",
            "\n",
            "Variance of center value for method 1: 0.00012231004586477418\n",
            "Variance of center value for method 2: 1.0280419756472239e-06\n",
            "Thus variance of center values for both methods are NOT SIMILAR\n",
            "\n",
            "\n",
            "Variance of width value for method 1: 5.117932854903461e-07\n",
            "Variance of width value for method 2: 1.909192752306882e-09\n",
            "Thus variance of center values for both methods are SIMILAR\n"
          ],
          "name": "stdout"
        }
      ]
    },
    {
      "cell_type": "markdown",
      "metadata": {
        "id": "7r_D6z5ZsyOd",
        "colab_type": "text"
      },
      "source": [
        "# Exercise 2 [Total: 20 Points]\n",
        "\n",
        "\n",
        "\n",
        "\n",
        "\n",
        "\n"
      ]
    },
    {
      "cell_type": "markdown",
      "metadata": {
        "id": "3TD3zuc_siJe",
        "colab_type": "text"
      },
      "source": [
        "###Setting\n",
        "\n",
        "Beta distribution is a commonly used continuous distribution to model a variable ranging between 0 and 1. \n",
        "\n",
        "The PDF of this distribution is as follows:\n",
        "\n",
        "$$f(x)=\\frac{x^{(\\alpha-1)}(1-x)^{\\beta-1}\\Gamma(\\alpha+\\beta)}{\\Gamma(\\alpha)\\Gamma(\\beta)}$$, where $x$ is between 0 and 1.\n",
        "\n",
        "To compute $\\Gamma(3)$, you can simply use `scipy.special.gamma(3)`\n",
        "\n",
        "Suppose we recently released a new product. We would like to use $x$ to measure the probability of a person choosing our product. Since people are different, we assume this probability follows a beta distribution. Let's assume that  $\\alpha=1$ and $\\beta=0.5$"
      ]
    },
    {
      "cell_type": "markdown",
      "metadata": {
        "id": "vcvkZLxLw7h3",
        "colab_type": "text"
      },
      "source": [
        "## Q1 [5 points]\n",
        "\n",
        "Visualize the PDF of the distribution of the probability of choosing our product. Do not use built-in functions that directly provides statistics for this distribution.\n",
        "\n",
        "Make sure to give the x_label and y_label."
      ]
    },
    {
      "cell_type": "code",
      "metadata": {
        "id": "0NVGIBoVxLGe",
        "colab_type": "code",
        "colab": {
          "base_uri": "https://localhost:8080/",
          "height": 316
        },
        "outputId": "cb915591-c4da-4cd2-bb68-a66fbe3bbc64"
      },
      "source": [
        "a,b=1,0.5\n",
        "x=np.arange(0,1.001,0.001)\n",
        "x_pdf=x**(a-1)*(1-x)**(b-1)*spsp.gamma(a+b)/(spsp.gamma(a)*spsp.gamma(b))\n",
        "\n",
        "plt.plot(x,x_pdf)\n",
        "plt.xlabel(\"x\")\n",
        "plt.ylabel(\"Probability\")\n",
        "plt.show()"
      ],
      "execution_count": 7,
      "outputs": [
        {
          "output_type": "stream",
          "text": [
            "/usr/local/lib/python3.6/dist-packages/ipykernel_launcher.py:3: RuntimeWarning: divide by zero encountered in power\n",
            "  This is separate from the ipykernel package so we can avoid doing imports until\n"
          ],
          "name": "stderr"
        },
        {
          "output_type": "display_data",
          "data": {
            "image/png": "[encoded data removed]",
            "text/plain": [
              "<Figure size 432x288 with 1 Axes>"
            ]
          },
          "metadata": {
            "tags": []
          }
        }
      ]
    },
    {
      "cell_type": "markdown",
      "metadata": {
        "id": "g35CIm0ftsgn",
        "colab_type": "text"
      },
      "source": [
        "##Q2 [5 points]\n",
        "\n",
        " Suppose we are interested in measuring the percentage of customers that choose our product with at least 80% probability. \n",
        " \n",
        " Fill in the following function. Inside the function,  use Monte-Carlo integration to estimate this percentage.   "
      ]
    },
    {
      "cell_type": "code",
      "metadata": {
        "id": "1gBmC5-_3pr9",
        "colab_type": "code",
        "colab": {
          "base_uri": "https://localhost:8080/",
          "height": 33
        },
        "outputId": "87331b41-b2ae-4d44-9124-c75c6a5713bc"
      },
      "source": [
        "def Beta_prob():\n",
        "  c,d=0.8,1\n",
        "  np.random.seed(100)\n",
        "  y=np.random.rand(1000)\n",
        "  x=c+(d-c)*y\n",
        "  hy=(d-c)*x**(a-1)*(1-x)**(b-1)*spsp.gamma(a+b)/(spsp.gamma(a)*spsp.gamma(b))\n",
        "  \n",
        "  prob=np.mean(hy)\n",
        "  return (prob)\n",
        "\n",
        "print(\"Required % is \"+str(round(Beta_prob()*100,2))+\"%\")"
      ],
      "execution_count": 8,
      "outputs": [
        {
          "output_type": "stream",
          "text": [
            "Required % is 45.74%\n"
          ],
          "name": "stdout"
        }
      ]
    },
    {
      "cell_type": "markdown",
      "metadata": {
        "id": "4WjE7GbfdA2r",
        "colab_type": "text"
      },
      "source": [
        "##Q3 [5 points]\n",
        "\n",
        "The expected value of $x$ for a continuous distribution is defined as \n",
        "\n",
        "$E(x)=\\int_{-\\infty}^\\infty xf(x)dx$\n",
        "\n",
        "Fill in the following function. Inside the function,  use Monte-Carlo integration to estimate this expected value."
      ]
    },
    {
      "cell_type": "code",
      "metadata": {
        "id": "ElkXKuu13kKr",
        "colab_type": "code",
        "colab": {
          "base_uri": "https://localhost:8080/",
          "height": 33
        },
        "outputId": "e5e53166-5ea1-420c-9aa4-9703bc2246dc"
      },
      "source": [
        "def Beta_expected():\n",
        "  \n",
        "  lower_lim,upper_lim=0,1 \n",
        "  np.random.seed(100)\n",
        "  y=np.random.rand(10000)\n",
        "  x=lower_lim+(upper_lim-lower_lim)*y\n",
        "  hy=(upper_lim-lower_lim)*x*(x**(a-1)*(1-x)**(b-1)*spsp.gamma(a+b)/(spsp.gamma(a)*spsp.gamma(b)))\n",
        "  exp=np.mean(hy)\n",
        "  \n",
        "  return exp\n",
        "\n",
        "print(\"Expected value of the beta distribution: \"+str(round(Beta_expected(),4)))"
      ],
      "execution_count": 9,
      "outputs": [
        {
          "output_type": "stream",
          "text": [
            "Expected value of the beta distribution: 0.6696\n"
          ],
          "name": "stdout"
        }
      ]
    },
    {
      "cell_type": "markdown",
      "metadata": {
        "id": "GmIf4QFkxIKs",
        "colab_type": "text"
      },
      "source": [
        "## Q4 [5 points]\n",
        "The variance for a continuous distribution is defined as follows:\n",
        "\n",
        "$Var(x)=\\int_{-\\infty}^\\infty x^2 f(x)dx-(\\int_{-\\infty}^\\infty x f(x)dx)^2$\n",
        "\n",
        "\n",
        "\n",
        "Fill in the following function. Inside the function, use Monte-Carlo integration to estimate this variance."
      ]
    },
    {
      "cell_type": "code",
      "metadata": {
        "id": "F_AiXzuLTx_s",
        "colab_type": "code",
        "colab": {
          "base_uri": "https://localhost:8080/",
          "height": 33
        },
        "outputId": "53f7f889-cbba-4354-9469-b406406c5e09"
      },
      "source": [
        "def Beta_var():\n",
        "\n",
        "  lower_lim,upper_lim=0,1\n",
        "  np.random.seed(100)\n",
        "  y=np.random.rand(10000)\n",
        "  \n",
        "  x=lower_lim+(upper_lim-lower_lim)*y\n",
        "  hy_1,hy_2=(upper_lim-lower_lim)*x*(x**(a-1)*(1-x)**(b-1)*spsp.gamma(a+b)/(spsp.gamma(a)*spsp.gamma(b))),(upper_lim-lower_lim)*x**2*(x**(a-1)*(1-x)**(b-1)*spsp.gamma(a+b)/(spsp.gamma(a)*spsp.gamma(b)))\n",
        "  var=np.mean(hy_2)-np.mean(hy_1)**2\n",
        "  \n",
        "  return var\n",
        "\n",
        "print(\"Variance of the beta distribution is\", round(Beta_var(),4))"
      ],
      "execution_count": 10,
      "outputs": [
        {
          "output_type": "stream",
          "text": [
            "Variance of the beta distribution is 0.0884\n"
          ],
          "name": "stdout"
        }
      ]
    },
    {
      "cell_type": "code",
      "metadata": {
        "id": "tUWCsTi4v4ao",
        "colab_type": "code",
        "colab": {}
      },
      "source": [
        ""
      ],
      "execution_count": 0,
      "outputs": []
    }
  ]
}