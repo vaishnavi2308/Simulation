{
 "cells": [
  {
   "cell_type": "markdown",
   "metadata": {
    "colab_type": "text",
    "id": "CFAUYewXyvR9"
   },
   "source": [
    "# **IEOR 4404  Simulation (Fall 2019)**\n",
    "\n",
    "**Homework 4[Total points: 60]**\n",
    "\n",
    "** Due: 11:59 PM, Nov 2 \n",
    "\n",
    "This third homework focuses on the inverse transform method for discrete distributions.\n",
    "\n",
    "The steps to finish in the homework:\n",
    "\n",
    "*   Step 1: Make a copy of the file to your LionDrive.\n",
    "*   Step 2: Work with the copy (an ipynb file).\n",
    "*    <font color='red'>**Step 3: Rename the copy to your_uni_hw4.ipynb (For example: yd4501_hw4.ipynb).**</font>  \n",
    "*   Step 4: Submit the copy on CourseWorks.\n",
    "\n",
    "Before you submit your assignment, make sure to re-run your code from the beginning. (You can do so by first clicking Runtime/Reset All Runtimes and then clicking Runtime/Run all)\n",
    "\n",
    "\n"
   ]
  },
  {
   "cell_type": "code",
   "execution_count": 1,
   "metadata": {
    "colab": {},
    "colab_type": "code",
    "id": "Vguot6YYWSob"
   },
   "outputs": [],
   "source": [
    "#This imports all the packages you need for the homework\n",
    "#Please run this first\n",
    "#we will need this for array operation\n",
    "import numpy as np\n",
    "\n",
    "#We will need this for special computation\n",
    "import scipy.special as spsp\n",
    "\n",
    "#We will need this for stats computation\n",
    "import scipy.stats as spst\n",
    "\n",
    "\n",
    "#We will need this for visualization\n",
    "import matplotlib.pyplot as plt\n",
    "\n",
    "#We can use this for math functions\n",
    "import math\n",
    " \n",
    "#We can use this for sympy function\n",
    "import sympy"
   ]
  },
  {
   "cell_type": "code",
   "execution_count": null,
   "metadata": {
    "colab": {},
    "colab_type": "code",
    "id": "ck6xtFucnTYh"
   },
   "outputs": [],
   "source": []
  },
  {
   "cell_type": "code",
   "execution_count": 2,
   "metadata": {
    "colab": {},
    "colab_type": "code",
    "id": "4odA17P_zBeZ"
   },
   "outputs": [],
   "source": [
    "#Your Name:Vaishnavi Avachat\n",
    "#Your UNI:vma2120"
   ]
  },
  {
   "cell_type": "markdown",
   "metadata": {
    "colab_type": "text",
    "id": "n9boZ_9Tyfn-"
   },
   "source": [
    "#Exercise 1  [Total: 36 Points]\n"
   ]
  },
  {
   "cell_type": "markdown",
   "metadata": {
    "colab_type": "text",
    "id": "5mB1uthrWybi"
   },
   "source": [
    "##Q1. [12 points]\n",
    "\n",
    "The great thing about rejection sampling is that it requires neither the PMF of the target distribution nor the PMF of the proposal distribution to be normalized. \n",
    "\n",
    "For example, let's assume we have $P_{proposal}(t)=\\frac{1}{5}$ where $t=2,3,4,5,6$. Let's also assume that we have $P_{target}(x)=\\frac{x}{z}$ where $x=2,3,4,5,6$.  Here, $z$ is a normalizing constant to ensure that $\\sum P_{target}(x)=1$ \n",
    "\n",
    "* Compute the value of z that makes $\\sum P_{target}(x)=1$ \n",
    "* Based on rejection sampling method, generate 10000 samples from $x$ distribution that follows $P_{target}(x)=\\frac{x}{z}$. When generating the samples from the proposal distribution, use the inverse transform method. When doing the rejection sampling, use the parallel method.\n",
    "* Pretend that $P_{Target}(x)=x$ and do exactly the same thing as your did in the last part. Show that (1) you will get a different value of $c$ (2) the sample distribution still follows the original target distribution $P_{target}(x)=\\frac{x}{z}$ based on visualization. In this part, since $c$ value is not computed based on normalized PMF, you should not use $c$ value to compute the number of proposals you need. For this question, simply generate 16000 proposals in the first stage."
   ]
  },
  {
   "cell_type": "code",
   "execution_count": 3,
   "metadata": {
    "colab": {
     "base_uri": "https://localhost:8080/",
     "height": 33
    },
    "colab_type": "code",
    "id": "61XaS7ALYqxh",
    "outputId": "f8206281-6445-4f8b-c1f3-5e57aabefacd"
   },
   "outputs": [
    {
     "data": {
      "text/plain": [
       "20"
      ]
     },
     "execution_count": 3,
     "metadata": {},
     "output_type": "execute_result"
    }
   ],
   "source": [
    "#Compute z\n",
    "x = np.array([2,3,4,5,6])\n",
    "z = np.sum(x)\n",
    "z"
   ]
  },
  {
   "cell_type": "code",
   "execution_count": 4,
   "metadata": {
    "colab": {
     "base_uri": "https://localhost:8080/",
     "height": 282
    },
    "colab_type": "code",
    "id": "0dGGms56lHGR",
    "outputId": "4aac30b1-0f2c-4e4a-ac27-4d744f6b9d54"
   },
   "outputs": [
    {
     "name": "stdout",
     "output_type": "stream",
     "text": [
      "1.4999999999999998\n"
     ]
    },
    {
     "data": {
      "image/png": "[encoded data removed]",
      "text/plain": [
       "<Figure size 432x288 with 1 Axes>"
      ]
     },
     "metadata": {
      "needs_background": "light"
     },
     "output_type": "display_data"
    }
   ],
   "source": [
    "#rejection sampling using normalized target PMF\n",
    "def rejection_normalized(N):\n",
    "  outcomes = np.array([2,3,4,5,6])\n",
    "  pmf_proposal = np.repeat(1/5,len(outcomes))\n",
    "  pmf_target = outcomes/z\n",
    "  cdf_array = np.cumsum(pmf_proposal)\n",
    "\n",
    "  def inverse_transform():\n",
    "    u = np.random.rand()\n",
    "    for i in range(0,5):\n",
    "      if u<cdf_array[i]:\n",
    "        return outcomes[i]\n",
    "  c = np.max(pmf_target/pmf_proposal)\n",
    "  print(c)\n",
    "\n",
    "\n",
    "  AR = pmf_target/pmf_proposal/c\n",
    "  N_proposal = int(N*c+4*(N*(c**2-c))**0.5)\n",
    "  U = np.random.rand(N_proposal)\n",
    "  proposals = np.array([inverse_transform() for i in range(N_proposal)])\n",
    "  AR_array = [AR[list(outcomes).index(i)] for i in proposals]\n",
    "  samples = proposals[U<AR_array][0:N]\n",
    "  return samples\n",
    "\n",
    "#visualization\n",
    "outcomes = np.array([2,3,4,5,6])\n",
    "pmf_target = outcomes/z\n",
    "samples = rejection_normalized(N=10000)\n",
    "x, counts = np.unique(samples,return_counts=True)\n",
    "plt.bar(x, counts/np.sum(counts))\n",
    "plt.scatter(outcomes,pmf_target,zorder=2)\n",
    "plt.show()"
   ]
  },
  {
   "cell_type": "code",
   "execution_count": 5,
   "metadata": {
    "colab": {
     "base_uri": "https://localhost:8080/",
     "height": 33
    },
    "colab_type": "code",
    "id": "kBfzUriHxDVo",
    "outputId": "69724008-332a-4e17-ecda-80e3003c6fc7"
   },
   "outputs": [
    {
     "data": {
      "text/plain": [
       "30.0"
      ]
     },
     "execution_count": 5,
     "metadata": {},
     "output_type": "execute_result"
    }
   ],
   "source": [
    "outcomes = np.array([2,3,4,5,6])\n",
    "pmf_proposal = np.repeat(1/5,len(outcomes))\n",
    "pmf_target = outcomes\n",
    "c = np.max(pmf_target/pmf_proposal)\n",
    "c"
   ]
  },
  {
   "cell_type": "code",
   "execution_count": 6,
   "metadata": {
    "colab": {
     "base_uri": "https://localhost:8080/",
     "height": 282
    },
    "colab_type": "code",
    "id": "jmdp-GRqxLoF",
    "outputId": "386d9bf0-63ea-4a22-a50e-9b09ed5dac95"
   },
   "outputs": [
    {
     "name": "stdout",
     "output_type": "stream",
     "text": [
      "30.0\n"
     ]
    },
    {
     "data": {
      "image/png": "[encoded data removed]",
      "text/plain": [
       "<Figure size 432x288 with 1 Axes>"
      ]
     },
     "metadata": {
      "needs_background": "light"
     },
     "output_type": "display_data"
    }
   ],
   "source": [
    "#rejection sampling using unnormalized target PMF.\n",
    "\n",
    "def rejection_unnormalized(N):\n",
    "  outcomes = np.array([2,3,4,5,6])\n",
    "  pmf_proposal = np.repeat(1/5,len(outcomes))\n",
    "  pmf_target = outcomes\n",
    "  cdf_array = np.cumsum(pmf_proposal)\n",
    "  def inverse_transform():\n",
    "    u = np.random.rand()\n",
    "    for i in range(5):\n",
    "      if u < cdf_array[i]:\n",
    "        return outcomes[i]\n",
    "  c = np.max(pmf_target/pmf_proposal)\n",
    "  print(c)\n",
    "  AR = pmf_target/pmf_proposal/c\n",
    "  N_proposal = 16000\n",
    "  U = np.random.rand(N_proposal)\n",
    "  proposals = np.array([inverse_transform() for i in range(N_proposal)])\n",
    "  AR_array = [AR[list(outcomes).index(i)] for i in proposals]\n",
    "  samples = proposals[U<AR_array][0:N]\n",
    "  return samples\n",
    "\n",
    "#visualize the sample distribution and the theoretical distribution of the normalized the target PMF \n",
    "outcomes=np.array([2,3,4,5,6])\n",
    "pmf_target=outcomes\n",
    "samples=rejection_unnormalized(N=10000)\n",
    "x, counts=np.unique(samples,return_counts=True)\n",
    "plt.bar(x, counts/np.sum(counts))\n",
    "#plt.scatter(outcomes,pmf_target,zorder=2)\n",
    "plt.show()"
   ]
  },
  {
   "cell_type": "markdown",
   "metadata": {
    "colab_type": "text",
    "id": "-K47CeJfPJSZ"
   },
   "source": [
    "##Q2. [10 points]\n",
    "\n",
    "Assume that $x \\sim Normal(\\mu,\\sigma^2)$.\n",
    "\n",
    "We have $z=\\lfloor x \\rfloor $ follows a discrete distribution. In addition, $P(z)=F(z+1)-F(z)$, where $F(z)$ is the CDF of the normal distribution at $z$. You can use `scipy.stats.norm.cdf(x,loc,scale)` to compute the CDF. \n",
    "\n",
    "Also, `np.random.normal(loc,scale,size)` will help you generate samples from a normal distribution \n",
    "\n",
    "* Construct function `DiscreteNormal` to return N samples from $z$ distribution.\n",
    "* Assume $\\mu=10$  $\\sigma=6$, $N=10000$, draw 10000 samples from $z$ distribution.\n",
    "* Plot the distribution of the samples you draw using a scatter plot.\n",
    "* In the same graph, use bar chart to plot the theoretical PMF of the $z$ distribution for the range between the lowest value of the samples and the highest value of the samples.\n"
   ]
  },
  {
   "cell_type": "code",
   "execution_count": 7,
   "metadata": {
    "colab": {
     "base_uri": "https://localhost:8080/",
     "height": 265
    },
    "colab_type": "code",
    "id": "LsG3QIh7PI2T",
    "outputId": "abf7047a-7cc8-4b6a-c620-d1be9dae81f1"
   },
   "outputs": [
    {
     "data": {
      "image/png": "[encoded data removed]",
      "text/plain": [
       "<Figure size 432x288 with 1 Axes>"
      ]
     },
     "metadata": {
      "needs_background": "light"
     },
     "output_type": "display_data"
    }
   ],
   "source": [
    "#define the function \n",
    "def DiscreteNormal(mu=0,sigma=1, N=1):\n",
    "  x = np.random.normal(mu,sigma,N)\n",
    "  samples = np.floor(x)\n",
    "  return samples \n",
    "\n",
    "# generate the samples\n",
    "samples = DiscreteNormal(mu=10,sigma=6, N=10000)\n",
    "# visualize the sample distribution and the theoretical distribution\n",
    "outcomes, counts = np.unique(samples,return_counts=True)\n",
    "Outcomes = np.arange(np.min(outcomes), np.max(outcomes+1))\n",
    "PMF = spst.norm.cdf(Outcomes+1,10,6)-spst.norm.cdf(Outcomes,10,6)\n",
    "\n",
    "#visualization\n",
    "plt.bar(Outcomes,PMF,label=\"theory\")\n",
    "plt.scatter(outcomes,counts/np.sum(counts),zorder=2,label=\"samples\")\n",
    "plt.show()\n"
   ]
  },
  {
   "cell_type": "markdown",
   "metadata": {
    "colab_type": "text",
    "id": "HQ_RmLcHXGS4"
   },
   "source": [
    "## Q3. [14 points]\n",
    "\n",
    "Conway-Maxwell-Poisson distribution is a discrete probability distribution that generalizes the Poisson distribution by adding a parameter to model overdispersion and underdispersion.\n",
    "\n",
    "The PMF of this distribution follows:\n",
    "\n",
    "$P(x)=\\frac{\\lambda^x}{(x!)^\\nu Z(\\lambda,\\nu)}$, where $Z(\\lambda,\\nu)$ is a normalizing constant, so that $\\sum P(x)=1$. For this distribution, the range of $x$ is $0, 1, 2, 3, ..., $\n",
    "\n",
    "* Based on the idea discussed in Q1, generate 10000 samples from this distribution with $\\lambda=5$,$\\nu=0.7$ assuming that you do not know the value of the normalizing constant. Use the distribution in Q2 with $\\mu=10$ and $\\sigma=6$ as the proposal distribution. When doing the sampling, do NOT used parallel method. \n",
    "* Visualize the sample distribution of the 10000 samples you generated.\n",
    "\n",
    "Help: You might find $ \\lambda^x$ or $(x!)^\\lambda$ in the target PMF overflow for large $x$ value, causing some inaccuracy in your calculation. Remember, $P(x)=exp(log(P(x)))$. Also, $log(x!)=log(Gamma(x+1))$. $log(Gamma(x+1))$ can be computed using `scipy.special.gammaln(x+1)`.\n",
    "\n",
    "\n",
    "\n"
   ]
  },
  {
   "cell_type": "code",
   "execution_count": 8,
   "metadata": {
    "colab": {
     "base_uri": "https://localhost:8080/",
     "height": 282
    },
    "colab_type": "code",
    "id": "cG-1OHQWoyCw",
    "outputId": "987eebb7-ca19-4f08-ac0a-bf8a99d70a6b"
   },
   "outputs": [
    {
     "data": {
      "text/plain": [
       "<BarContainer object of 27 artists>"
      ]
     },
     "execution_count": 8,
     "metadata": {},
     "output_type": "execute_result"
    },
    {
     "data": {
      "image/png": "[encoded data removed]",
      "text/plain": [
       "<Figure size 432x288 with 1 Axes>"
      ]
     },
     "metadata": {
      "needs_background": "light"
     },
     "output_type": "display_data"
    }
   ],
   "source": [
    "#any other commands\n",
    "lmbda, v = 5, 0.7\n",
    "x = np.linspace(0,50,51)\n",
    "prop_pmf = spst.norm.pdf(x,10,6)\n",
    "target_pmf = np.exp(x*np.log(lmbda)-v*spsp.gammaln(x+1))\n",
    "c = np.max(target_pmf/prop_pmf)\n",
    "\n",
    "#generate one sample\n",
    "def rejection():\n",
    "  proposal = np.floor(np.random.normal(10,6,1))\n",
    "  pmf_proposal = spst.norm.pdf(proposal,10,6)\n",
    "  pmf_target = np.exp(proposal*np.log(lmbda)-v*spsp.gammaln(proposal+1))\n",
    "\n",
    "  while (np.random.rand()>pmf_target/pmf_proposal/c):\n",
    "    proposal = np.floor(np.random.normal(10,6,1))\n",
    "    pmf_proposal = spst.norm.pdf(proposal,10,6)\n",
    "    pmf_target = np.exp(proposal*np.log(lmbda)-v*spsp.gammaln(proposal+1))\n",
    "  return proposal\n",
    "\n",
    "\n",
    "#generate many samples\n",
    "samples = [rejection() for i in range(10000)]\n",
    "\n",
    "#Visualize the sample distribution\n",
    "outcomes, counts = np.unique(samples,return_counts=True)\n",
    "\n",
    "#plt.scatter(outcomes,counts/np.sum(counts),zorder=2,label=\"samples\")\n",
    "plt.bar(outcomes, counts/np.sum(counts))"
   ]
  },
  {
   "cell_type": "markdown",
   "metadata": {
    "colab_type": "text",
    "id": "qiNT9NPSYuo_"
   },
   "source": [
    "#Exercise 2 [24 Points]"
   ]
  },
  {
   "cell_type": "markdown",
   "metadata": {
    "colab_type": "text",
    "id": "08FgurHj_LGW"
   },
   "source": [
    "##Setting\n",
    "\n",
    "The three-point-estimate is commonly used in industry for project management, risk management, etc. For example, team members can provide their optimistic (a), pessimistic (b), and best guess (c) estimates for their deliverables. A distribution will then be constructed based on those three values. \n",
    "\n",
    "The triangular distribution is a **continuous** distribution that follows a triangular shape. It is commonly used to construct the distribution following the three-point-estimate. \n",
    "\n",
    "For example, a team might be asked to give an estimation of the time it would take to finish the project. The team might come up with the pessimistic guess of 30 days, the optimistic guess of 10 days, and their best guess of 25 days. Then, a distribution of the number of days $x$ will be constucted as follows\n",
    "\n",
    "$f(x)=\n",
    "  \\begin{cases}\n",
    "    \\frac{2(x-a)}{(b-a)(c-a)}, & \\text{for } a \\leq x < c \\\\\n",
    "    \\frac{2(b-x)}{(b-a)(b-c)}, & \\text{for } c \\leq x < b \\\\\n",
    "    0, & \\text{otherwise}\n",
    "  \\end{cases}\n",
    "$\n",
    "\n",
    "\n",
    "We will have $a<c<b$. In our case, $a$ will correspond to the optimistic value, $c$ will correspond to the best guess, and $b$ will correspond to the pessimistic value. \n",
    "\n"
   ]
  },
  {
   "cell_type": "markdown",
   "metadata": {
    "colab_type": "text",
    "id": "9FM5P5Qhzahi"
   },
   "source": [
    "## Q1. [3 points]\n",
    "Plot the pdf of the distribution of the number of days using the triangular distribution with the information provided by the team \n",
    "\n"
   ]
  },
  {
   "cell_type": "code",
   "execution_count": 9,
   "metadata": {
    "colab": {
     "base_uri": "https://localhost:8080/",
     "height": 282
    },
    "colab_type": "code",
    "id": "3kaoKjHGpHmN",
    "outputId": "6ea17c2f-8d30-4136-a253-c159a0fa1930"
   },
   "outputs": [
    {
     "data": {
      "text/plain": [
       "[<matplotlib.lines.Line2D at 0x196dbd3e400>]"
      ]
     },
     "execution_count": 9,
     "metadata": {},
     "output_type": "execute_result"
    },
    {
     "data": {
      "image/png": "[encoded data removed]",
      "text/plain": [
       "<Figure size 432x288 with 1 Axes>"
      ]
     },
     "metadata": {
      "needs_background": "light"
     },
     "output_type": "display_data"
    }
   ],
   "source": [
    "#Visualization\n",
    "a, b, c = 10, 30, 25\n",
    "outcomes = np.linspace(0,40,10000)\n",
    "pdf = np.repeat(0.0,10000)\n",
    "\n",
    "BM1, BM2 = (outcomes>=a) * (outcomes<c), (outcomes>=c) * (outcomes<b)\n",
    "pdf[BM1], pdf[BM2] = 2*(outcomes[BM1]-a)/(b-a)/(c-a), 2*(b-outcomes[BM2])/(b-a)/(b-c)\n",
    "\n",
    "#visualization\n",
    "plt.plot(outcomes,pdf)"
   ]
  },
  {
   "cell_type": "markdown",
   "metadata": {
    "colab_type": "text",
    "id": "otDLSdMnXx_o"
   },
   "source": [
    "## Q2. [6 points]\n",
    "\n",
    "* Use a uniform distribution with the best bounds as the proposal distribution  to generate 10000 samples from the distribution described in the setting. Use the parallel method. \n",
    "\n",
    "* After generate the samples, plot the distribution of the samples."
   ]
  },
  {
   "cell_type": "code",
   "execution_count": 10,
   "metadata": {
    "colab": {
     "base_uri": "https://localhost:8080/",
     "height": 282
    },
    "colab_type": "code",
    "id": "4TV_X5PHpUee",
    "outputId": "6d34ce0a-9066-4990-f526-1edc6ff6970a"
   },
   "outputs": [
    {
     "name": "stdout",
     "output_type": "stream",
     "text": [
      "1.9997999799979997\n"
     ]
    },
    {
     "data": {
      "image/png": "[encoded data removed]",
      "text/plain": [
       "<Figure size 432x288 with 1 Axes>"
      ]
     },
     "metadata": {
      "needs_background": "light"
     },
     "output_type": "display_data"
    }
   ],
   "source": [
    "a, b, c = 10, 30, 25\n",
    "pmf_prop = np.repeat(1/(b-a),len(outcomes))\n",
    "max_c = np.max(pdf/pmf_prop)\n",
    "print(max_c)\n",
    "\n",
    "#visualization\n",
    "plt.plot(outcomes,pdf)\n",
    "plt.plot(outcomes,pmf_prop)\n",
    "plt.show()"
   ]
  },
  {
   "cell_type": "code",
   "execution_count": 11,
   "metadata": {
    "colab": {
     "base_uri": "https://localhost:8080/",
     "height": 265
    },
    "colab_type": "code",
    "id": "5v-5NkwsYdFr",
    "outputId": "7575914d-a26b-4394-d3c2-84fdd8dcca7a"
   },
   "outputs": [
    {
     "data": {
      "image/png": "[encoded data removed]",
      "text/plain": [
       "<Figure size 432x288 with 1 Axes>"
      ]
     },
     "metadata": {
      "needs_background": "light"
     },
     "output_type": "display_data"
    }
   ],
   "source": [
    "a, b, c = 10, 30, 25\n",
    "outcomes = np.linspace(10,30,10000)\n",
    "pdf = np.repeat(0.0,10000)\n",
    "BM1, BM2 = (outcomes>=a) * (outcomes<c), (outcomes>=c) * (outcomes<b)\n",
    "pdf[BM1], pdf[BM2] = 2*(outcomes[BM1]-a)/(b-a)/(c-a), 2*(b-outcomes[BM2])/(b-a)/(b-c)\n",
    "\n",
    "#define a function used to generate the samples using rejection method and done in parallel:\n",
    "def triangle_reject(N):\n",
    "  N_proposal = int(N*max_c+4*(N*(max_c**2-max_c))**0.5)\n",
    "  u = np.random.rand(N_proposal)\n",
    "  proposals = a + (b-a)*u \n",
    "  target_pdf = np.repeat(0.0,N_proposal)\n",
    "  BM1, BM2 = (proposals>=a) * (proposals<c), (proposals>=c) * (proposals<b)\n",
    "  target_pdf[BM1], target_pdf[BM2] = 2*(proposals[BM1]-a)/(b-a)/(c-a), 2*(b-proposals[BM2])/(b-a)/(b-c)\n",
    "  prop_pdf = np.repeat(1/(b-a),N_proposal)\n",
    "  ar_array = target_pdf/prop_pdf/max_c\n",
    "  U = np.random.rand(N_proposal)\n",
    "  samples = proposals[U<ar_array][0:N]\n",
    "  return samples\n",
    "\n",
    "#generate the samples\n",
    "samples = triangle_reject(N=10000)\n",
    "\n",
    "#visualization\n",
    "plt.hist(samples,density=True,bins=50)\n",
    "plt.plot(outcomes,pdf)\n",
    "plt.show()"
   ]
  },
  {
   "cell_type": "markdown",
   "metadata": {
    "colab_type": "text",
    "id": "e61X5MVnYdWn"
   },
   "source": [
    "## Q3. [10 points]\n",
    "\n",
    "We can also use inverse transform method to directly generate the samples from the target distribution. \n",
    "\n",
    "* Generate 10000 samples using the inverse transform method. Use `sympy` to show the derivation.\n",
    "\n",
    "* After generate the samples, plot the distribution of the samples.\n",
    "\n",
    "Hint: When doing the inverse transform method, you will want to deal with (a,c) and (c,b) separately. Think about what the CDF function is  for $x$ in range (a,c) and in range (c,b). Same idea applys to the stage when you draw $u \\sim Unif(0,1)$ and convert it to $x$ using the inverse CDF function."
   ]
  },
  {
   "cell_type": "code",
   "execution_count": 12,
   "metadata": {},
   "outputs": [
    {
     "data": {
      "text/plain": [
       "a**2/(a**2 - a*b - a*c + b*c) - 2*a*x/(a**2 - a*b - a*c + b*c) + x**2/(a**2 - a*b - a*c + b*c)"
      ]
     },
     "execution_count": 12,
     "metadata": {},
     "output_type": "execute_result"
    }
   ],
   "source": [
    "import sympy\n",
    "a, b, c, x = sympy.Symbol(\"a\"), sympy.Symbol(\"b\"), sympy.Symbol(\"c\"), sympy.Symbol(\"x\")\n",
    "cdf_x_a_c=sympy.integrate(2*(x-a)/(b-a)/(c-a),(x,a,x))\n",
    "cdf_x_c_b=sympy.integrate(2*(b-x)/(b-a)/(b-c),(x,c,x))+0.75\n",
    "cdf_x_a_c"
   ]
  },
  {
   "cell_type": "code",
   "execution_count": 13,
   "metadata": {
    "colab": {
     "base_uri": "https://localhost:8080/",
     "height": 33
    },
    "colab_type": "code",
    "id": "kvvdMnBIvFEn",
    "outputId": "959d0783-3f53-4e36-dc17-68400e0992ae"
   },
   "outputs": [
    {
     "data": {
      "text/plain": [
       "[a - sqrt(u*(a - b)*(a - c)), a + sqrt(u*(a - b)*(a - c))]"
      ]
     },
     "execution_count": 13,
     "metadata": {},
     "output_type": "execute_result"
    }
   ],
   "source": [
    "a, b, c, x, u = sympy.Symbol(\"a\"), sympy.Symbol(\"b\"), sympy.Symbol(\"c\"), sympy.Symbol(\"x\"), sympy.Symbol(\"u\")\n",
    "cdf_x_a_c = sympy.integrate(2*(x-a)/(b-a)/(c-a),(x,a,x))\n",
    "sample_x = sympy.solve(cdf_x_a_c-u,x)\n",
    "sample_x"
   ]
  },
  {
   "cell_type": "code",
   "execution_count": 14,
   "metadata": {
    "colab": {
     "base_uri": "https://localhost:8080/",
     "height": 33
    },
    "colab_type": "code",
    "id": "R9f1RUldvdLg",
    "outputId": "ae887b92-afe0-4480-f87a-48da31e98e9d"
   },
   "outputs": [
    {
     "data": {
      "text/plain": [
       "[b - sqrt((b - c)*(a*u - b*u + b - c)), b + sqrt((b - c)*(a*u - b*u + b - c))]"
      ]
     },
     "execution_count": 14,
     "metadata": {},
     "output_type": "execute_result"
    }
   ],
   "source": [
    "cdf_x_c_b = sympy.integrate(2*(b-x)/(b-a)/(b-c),(x,c,x))\n",
    "sample_x = sympy.solve(cdf_x_c_b-u,x)\n",
    "sample_x"
   ]
  },
  {
   "cell_type": "code",
   "execution_count": 15,
   "metadata": {
    "colab": {
     "base_uri": "https://localhost:8080/",
     "height": 632
    },
    "colab_type": "code",
    "id": "T9ReCVksHuMZ",
    "outputId": "ca87c37c-adad-44d0-d66b-71ec8f3f0401"
   },
   "outputs": [
    {
     "data": {
      "text/plain": [
       "(array([0.00353222, 0.00605523, 0.00883054, 0.01110125, 0.01362426,\n",
       "        0.01564267, 0.020941  , 0.02396861, 0.01867029, 0.02523012,\n",
       "        0.02674393, 0.03305146, 0.03834978, 0.03582677, 0.03759288,\n",
       "        0.0436481 , 0.05046024, 0.04541421, 0.04894643, 0.05348785,\n",
       "        0.05752467, 0.05828157, 0.05954308, 0.06635521, 0.0643368 ,\n",
       "        0.0648414 , 0.0635799 , 0.07846567, 0.08048408, 0.07417655,\n",
       "        0.08174558, 0.07997948, 0.08275479, 0.08956692, 0.08931462,\n",
       "        0.08931462, 0.09688365, 0.10344349, 0.09410834, 0.08073638,\n",
       "        0.07695186, 0.07266274, 0.06534601, 0.05197404, 0.04692802,\n",
       "        0.03380836, 0.02422091, 0.01993179, 0.00958744, 0.00504602]),\n",
       " array([10.14953032, 10.54588201, 10.94223369, 11.33858538, 11.73493707,\n",
       "        12.13128876, 12.52764045, 12.92399214, 13.32034382, 13.71669551,\n",
       "        14.1130472 , 14.50939889, 14.90575058, 15.30210226, 15.69845395,\n",
       "        16.09480564, 16.49115733, 16.88750902, 17.2838607 , 17.68021239,\n",
       "        18.07656408, 18.47291577, 18.86926746, 19.26561915, 19.66197083,\n",
       "        20.05832252, 20.45467421, 20.8510259 , 21.24737759, 21.64372927,\n",
       "        22.04008096, 22.43643265, 22.83278434, 23.22913603, 23.62548771,\n",
       "        24.0218394 , 24.41819109, 24.81454278, 25.21089447, 25.60724616,\n",
       "        26.00359784, 26.39994953, 26.79630122, 27.19265291, 27.5890046 ,\n",
       "        27.98535628, 28.38170797, 28.77805966, 29.17441135, 29.57076304,\n",
       "        29.96711473]),\n",
       " <a list of 50 Patch objects>)"
      ]
     },
     "execution_count": 15,
     "metadata": {},
     "output_type": "execute_result"
    },
    {
     "data": {
      "image/png": "[encoded data removed]",
      "text/plain": [
       "<Figure size 432x288 with 1 Axes>"
      ]
     },
     "metadata": {
      "needs_background": "light"
     },
     "output_type": "display_data"
    }
   ],
   "source": [
    "#define a function used to generate the samples using inverse method:\n",
    "\n",
    "def triangle_inverse(N):\n",
    "  u=np.random.rand(N)\n",
    "  samples=np.repeat(0.0,N)\n",
    "  a, b, c = 10, 30, 25\n",
    "\n",
    "  for i in range(len(u)):\n",
    "    if u[i] <= 0.75:\n",
    "      samples[i] = a + math.sqrt(u[i]*(a - b)*(a - c))\n",
    "    else:\n",
    "      samples[i] = b - math.sqrt((b - c)*(a*(u[i]-0.75) - b*(u[i]-0.75) + b - c))\n",
    "  return samples\n",
    "\n",
    "#generate the samples \n",
    "samples = triangle_inverse(N=10000)\n",
    "#visualize the distribution of samples \n",
    "plt.hist(samples,density=True,bins=50)\n"
   ]
  },
  {
   "cell_type": "markdown",
   "metadata": {
    "colab_type": "text",
    "id": "4c3mYD3EZDGn"
   },
   "source": [
    "## Q4. [5 points]\n",
    "\n",
    "The team estimated that the profit that they will get from the project follows the following formula.\n",
    "\n",
    "$Profit=18000-(20-days)^2*100$\n",
    "\n",
    "<font color='blue'>Find the 95% confidence interval of the expected profit based on the 10000 samples generated.</font>"
   ]
  },
  {
   "cell_type": "code",
   "execution_count": 16,
   "metadata": {
    "colab": {},
    "colab_type": "code",
    "id": "DZkFEDwFZ2zV"
   },
   "outputs": [],
   "source": [
    "\n",
    "#expected value of the profit \n",
    "def profit(samples):\n",
    "  profit = 18000 - (20-samples)**2*100\n",
    "  mean = np.mean(profit)\n",
    "  std = np.std(profit,ddof=1)\n",
    "  half_interval = spst.norm.ppf(0.975)* std/(len(samples))**0.5\n",
    "  lower = mean-half_interval\n",
    "  upper = mean+half_interval\n",
    "  return lower, upper\n"
   ]
  },
  {
   "cell_type": "code",
   "execution_count": 17,
   "metadata": {
    "colab": {
     "base_uri": "https://localhost:8080/",
     "height": 33
    },
    "colab_type": "code",
    "id": "jScrh9isAs-r",
    "outputId": "69df1555-1001-4886-f28a-183f5169990c"
   },
   "outputs": [
    {
     "data": {
      "text/plain": [
       "(15861.675957039603, 15943.952691725015)"
      ]
     },
     "execution_count": 17,
     "metadata": {},
     "output_type": "execute_result"
    }
   ],
   "source": [
    "lower, upper = profit(samples)\n",
    "lower, upper"
   ]
  },
  {
   "cell_type": "code",
   "execution_count": null,
   "metadata": {
    "colab": {},
    "colab_type": "code",
    "id": "85xvW01iuISP"
   },
   "outputs": [],
   "source": []
  }
 ],
 "metadata": {
  "colab": {
   "collapsed_sections": [],
   "name": "Copy of HW4 (IEOR 4404 Fall 2019).ipynb",
   "provenance": []
  },
  "kernelspec": {
   "display_name": "Python 3",
   "language": "python",
   "name": "python3"
  },
  "language_info": {
   "codemirror_mode": {
    "name": "ipython",
    "version": 3
   },
   "file_extension": ".py",
   "mimetype": "text/x-python",
   "name": "python",
   "nbconvert_exporter": "python",
   "pygments_lexer": "ipython3",
   "version": "3.7.0"
  }
 },
 "nbformat": 4,
 "nbformat_minor": 1
}
